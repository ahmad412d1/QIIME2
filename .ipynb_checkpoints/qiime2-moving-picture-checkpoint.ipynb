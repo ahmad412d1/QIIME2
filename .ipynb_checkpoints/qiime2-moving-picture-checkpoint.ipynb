{
 "cells": [
  {
   "cell_type": "markdown",
   "metadata": {},
   "source": [
    "<h1>QIIME2 Tutorial menggunakan Python melalui Jupyter Notebook/Lab</h1>"
   ]
  },
  {
   "cell_type": "markdown",
   "metadata": {},
   "source": [
    "Tutorial ini merupakan merupakan tutorial analisis microbiome \"Moving Picture\". Analisis QIIME2 ini berasal dari sampel microbimoe manusia yang sebelumnya telah dipublikasikan oleh Caporasso et al. (2011). Data yang digunakan merupakan hasil sekuensing NSG Illumina HiSeq terhadap Hypervariabel region 4 (V4) 16S rRNA menggunakan protocol Earth Microbiome Project."
   ]
  },
  {
   "cell_type": "markdown",
   "metadata": {},
   "source": [
    "<h2>1. Membuat Directory atau Folder Baru</h2>\n",
    "Sebelum melakukan analisi, ada baiknya dibuat directory atau file baru untuk menampung seluruh hasil analisis yang dilakukan. Adapun comment \"mkdir\" digunakan untuk membuat directory baru, kemudian disusul nama directorynya. Selanjutnya \"cd\" untuk berpindah ke directory yang telah dibuat sebelumnya, tentunya dengan menuliskan nama directorynya. Jika lupa nama directorynya, bisa menuliskan \"dir\" untuk melihat directory apa saya yang ada dalam directory kerja kita sekarang."
   ]
  },
  {
   "cell_type": "markdown",
   "metadata": {},
   "source": [
    "Perlu diperhatikan untuk setiap line wajib ditambahkan tanda seru \"!\" agar terbaca sebagai command line. "
   ]
  },
  {
   "cell_type": "code",
   "execution_count": 1,
   "metadata": {},
   "outputs": [],
   "source": [
    "!mkdir qiime2-moving-pictures-tutorial\n",
    "!cd qiime2-moving-pictures-tutorial"
   ]
  },
  {
   "cell_type": "markdown",
   "metadata": {},
   "source": [
    "<h2>2. Mendapatkan Sample Metadata</h2>\n",
    "metadata merupakan data pendukung analisis microbiome yang berisikan keterangan parameter lingkungan, jenis perlakuan, informasi sumber sample, waktu pengisolasian sample, dan keterngan-keterngan pendukung sampel. \n",
    "Dalam tahap ini, akan diperoleh metadata melalui command \"wget\" yang diunduh dari laman dibawah ini.Metadata akan secara otomatis tersimpan dalam working directory (folder kita bekerja saat ini). info lebih lanjut mengenai metadata:\n",
    "\n",
    "https://docs.qiime2.org/2020.8/tutorials/metadata/"
   ]
  },
  {
   "cell_type": "markdown",
   "metadata": {},
   "source": [
    "Untuk mengecek lokasi working directory, dapat dituliskan:"
   ]
  },
  {
   "cell_type": "code",
   "execution_count": 3,
   "metadata": {},
   "outputs": [
    {
     "data": {
      "text/plain": [
       "'C:\\\\Users\\\\Ahmad Ardi\\\\Documents\\\\GitHub\\\\QIIME2'"
      ]
     },
     "execution_count": 3,
     "metadata": {},
     "output_type": "execute_result"
    }
   ],
   "source": [
    "import os\n",
    "os.getcwd()"
   ]
  },
  {
   "cell_type": "code",
   "execution_count": 2,
   "metadata": {},
   "outputs": [
    {
     "name": "stdout",
     "output_type": "stream",
     "text": [
      "--2019-11-11 21:55:19--  https://data.qiime2.org/2019.10/tutorials/moving-pictures/sample_metadata.tsv\n",
      "Resolving data.qiime2.org... 52.35.38.247\n",
      "Connecting to data.qiime2.org|52.35.38.247|:443... connected.\n",
      "HTTP request sent, awaiting response... 302 FOUND\n",
      "Location: https://docs.google.com/spreadsheets/d/16oomVnULW-uesehNZc_mKIDTnuRoTiun0CpzSFZagvo/export?gid=0&format=tsv [following]\n",
      "--2019-11-11 21:55:20--  https://docs.google.com/spreadsheets/d/16oomVnULW-uesehNZc_mKIDTnuRoTiun0CpzSFZagvo/export?gid=0&format=tsv\n",
      "Resolving docs.google.com... 172.217.194.138, 172.217.194.139, 172.217.194.101, ...\n",
      "Connecting to docs.google.com|172.217.194.138|:443... connected.\n",
      "HTTP request sent, awaiting response... 200 OK\n",
      "Length: unspecified [text/tab-separated-values]\n",
      "Saving to: ‘sample-metadata.tsv’\n",
      "\n",
      "sample-metadata.tsv     [ <=>                ]   2,04K  --.-KB/s    in 0,003s  \n",
      "\n",
      "2019-11-11 21:55:21 (593 KB/s) - ‘sample-metadata.tsv’ saved [2094]\n",
      "\n"
     ]
    }
   ],
   "source": [
    "!wget \\\n",
    "  -O \"sample-metadata.tsv\" \\\n",
    "  \"https://data.qiime2.org/2019.10/tutorials/moving-pictures/sample_metadata.tsv\""
   ]
  },
  {
   "cell_type": "code",
   "execution_count": 4,
   "metadata": {},
   "outputs": [],
   "source": [
    "!mkdir emp-single-end-sequences"
   ]
  },
  {
   "cell_type": "code",
   "execution_count": 5,
   "metadata": {},
   "outputs": [
    {
     "name": "stdout",
     "output_type": "stream",
     "text": [
      "--2019-11-11 21:56:47--  https://data.qiime2.org/2019.10/tutorials/moving-pictures/emp-single-end-sequences/barcodes.fastq.gz\n",
      "Resolving data.qiime2.org... 52.35.38.247\n",
      "Connecting to data.qiime2.org|52.35.38.247|:443... connected.\n",
      "HTTP request sent, awaiting response... 302 FOUND\n",
      "Location: https://s3-us-west-2.amazonaws.com/qiime2-data/2019.10/tutorials/moving-pictures/emp-single-end-sequences/barcodes.fastq.gz [following]\n",
      "--2019-11-11 21:56:48--  https://s3-us-west-2.amazonaws.com/qiime2-data/2019.10/tutorials/moving-pictures/emp-single-end-sequences/barcodes.fastq.gz\n",
      "Resolving s3-us-west-2.amazonaws.com... 52.218.217.144\n",
      "Connecting to s3-us-west-2.amazonaws.com|52.218.217.144|:443... connected.\n",
      "HTTP request sent, awaiting response... 200 OK\n",
      "Length: 3783785 (3,6M) [application/x-gzip]\n",
      "Saving to: ‘emp-single-end-sequences/barcodes.fastq.gz’\n",
      "\n",
      "emp-single-end-sequ 100%[===================>]   3,61M   327KB/s    in 13s     \n",
      "\n",
      "2019-11-11 21:57:03 (277 KB/s) - ‘emp-single-end-sequences/barcodes.fastq.gz’ saved [3783785/3783785]\n",
      "\n"
     ]
    }
   ],
   "source": [
    "!wget \\\n",
    "  -O \"emp-single-end-sequences/barcodes.fastq.gz\" \\\n",
    "  \"https://data.qiime2.org/2019.10/tutorials/moving-pictures/emp-single-end-sequences/barcodes.fastq.gz\""
   ]
  },
  {
   "cell_type": "code",
   "execution_count": 6,
   "metadata": {},
   "outputs": [
    {
     "name": "stdout",
     "output_type": "stream",
     "text": [
      "--2019-11-11 21:57:11--  https://data.qiime2.org/2019.10/tutorials/moving-pictures/emp-single-end-sequences/sequences.fastq.gz\n",
      "Resolving data.qiime2.org... 52.35.38.247\n",
      "Connecting to data.qiime2.org|52.35.38.247|:443... connected.\n",
      "HTTP request sent, awaiting response... 302 FOUND\n",
      "Location: https://s3-us-west-2.amazonaws.com/qiime2-data/2019.10/tutorials/moving-pictures/emp-single-end-sequences/sequences.fastq.gz [following]\n",
      "--2019-11-11 21:57:12--  https://s3-us-west-2.amazonaws.com/qiime2-data/2019.10/tutorials/moving-pictures/emp-single-end-sequences/sequences.fastq.gz\n",
      "Resolving s3-us-west-2.amazonaws.com... 52.218.252.224\n",
      "Connecting to s3-us-west-2.amazonaws.com|52.218.252.224|:443... connected.\n",
      "HTTP request sent, awaiting response... 200 OK\n",
      "Length: 25303756 (24M) [binary/octet-stream]\n",
      "Saving to: ‘emp-single-end-sequences/sequences.fastq.gz’\n",
      "\n",
      "emp-single-end-sequ 100%[===================>]  24,13M   250KB/s    in 2m 9s   \n",
      "\n",
      "2019-11-11 21:59:23 (192 KB/s) - ‘emp-single-end-sequences/sequences.fastq.gz’ saved [25303756/25303756]\n",
      "\n"
     ]
    }
   ],
   "source": [
    "!wget \\\n",
    "  -O \"emp-single-end-sequences/sequences.fastq.gz\" \\\n",
    "  \"https://data.qiime2.org/2019.10/tutorials/moving-pictures/emp-single-end-sequences/sequences.fastq.gz\""
   ]
  },
  {
   "cell_type": "code",
   "execution_count": 7,
   "metadata": {},
   "outputs": [
    {
     "name": "stdout",
     "output_type": "stream",
     "text": [
      "\u001b[32mImported emp-single-end-sequences as EMPSingleEndDirFmt to emp-single-end-sequences.qza\u001b[0m\n"
     ]
    }
   ],
   "source": [
    "!qiime tools import \\\n",
    "  --type EMPSingleEndSequences \\\n",
    "  --input-path emp-single-end-sequences \\\n",
    "  --output-path emp-single-end-sequences.qza"
   ]
  },
  {
   "cell_type": "code",
   "execution_count": 8,
   "metadata": {},
   "outputs": [
    {
     "name": "stdout",
     "output_type": "stream",
     "text": [
      "\u001b[32mSaved SampleData[SequencesWithQuality] to: demux.qza\u001b[0m\n",
      "\u001b[32mSaved ErrorCorrectionDetails to: demux-details.qza\u001b[0m\n"
     ]
    }
   ],
   "source": [
    "!qiime demux emp-single \\\n",
    "  --i-seqs emp-single-end-sequences.qza \\\n",
    "  --m-barcodes-file sample-metadata.tsv \\\n",
    "  --m-barcodes-column barcode-sequence \\\n",
    "  --o-per-sample-sequences demux.qza \\\n",
    "  --o-error-correction-details demux-details.qza"
   ]
  },
  {
   "cell_type": "code",
   "execution_count": 9,
   "metadata": {},
   "outputs": [
    {
     "name": "stdout",
     "output_type": "stream",
     "text": [
      "\u001b[32mSaved Visualization to: demux.qzv\u001b[0m\n"
     ]
    }
   ],
   "source": [
    "!qiime demux summarize \\\n",
    "  --i-data demux.qza \\\n",
    "  --o-visualization demux.qzv"
   ]
  },
  {
   "cell_type": "code",
   "execution_count": 1,
   "metadata": {},
   "outputs": [
    {
     "name": "stdout",
     "output_type": "stream",
     "text": [
      "Press the 'q' key, Control-C, or Control-D to quit. This view may no longer be accessible or work correctly after quitting.[4782:4782:1112/000745.967537:ERROR:sandbox_linux.cc(368)] InitializeSandbox() called with multiple threads in process gpu-process.\n",
      "[4745:4764:1112/000746.043908:ERROR:browser_process_sub_thread.cc(221)] Waited 3 ms for network service\n",
      "Opening in existing browser session.\n",
      "\n",
      "Press the 'q' key, Control-C, or Control-D to quit. This view may no longer be accessible or work correctly after quitting."
     ]
    }
   ],
   "source": [
    "!qiime tools view demux.qzv"
   ]
  },
  {
   "cell_type": "code",
   "execution_count": 12,
   "metadata": {},
   "outputs": [
    {
     "name": "stdout",
     "output_type": "stream",
     "text": [
      "\u001b[32mSaved FeatureTable[Frequency] to: table-dada2.qza\u001b[0m\n",
      "\u001b[32mSaved FeatureData[Sequence] to: rep-seqs-dada2.qza\u001b[0m\n",
      "\u001b[32mSaved SampleData[DADA2Stats] to: stats-dada2.qza\u001b[0m\n"
     ]
    }
   ],
   "source": [
    "!qiime dada2 denoise-single \\\n",
    "  --i-demultiplexed-seqs demux.qza \\\n",
    "  --p-trim-left 0 \\\n",
    "  --p-trunc-len 120 \\\n",
    "  --o-representative-sequences rep-seqs-dada2.qza \\\n",
    "  --o-table table-dada2.qza \\\n",
    "  --o-denoising-stats stats-dada2.qza"
   ]
  },
  {
   "cell_type": "code",
   "execution_count": 13,
   "metadata": {},
   "outputs": [
    {
     "name": "stdout",
     "output_type": "stream",
     "text": [
      "\u001b[32mSaved Visualization to: stats-dada2.qzv\u001b[0m\n"
     ]
    }
   ],
   "source": [
    "!qiime metadata tabulate \\\n",
    "  --m-input-file stats-dada2.qza \\\n",
    "  --o-visualization stats-dada2.qzv"
   ]
  },
  {
   "cell_type": "code",
   "execution_count": 14,
   "metadata": {},
   "outputs": [],
   "source": [
    "!mv rep-seqs-dada2.qza rep-seqs.qza\n",
    "!mv table-dada2.qza table.qza"
   ]
  },
  {
   "cell_type": "code",
   "execution_count": 2,
   "metadata": {},
   "outputs": [
    {
     "name": "stdout",
     "output_type": "stream",
     "text": [
      "Press the 'q' key, Control-C, or Control-D to quit. This view may no longer be accessible or work correctly after quitting.[4906:4925:1112/000912.090725:ERROR:browser_process_sub_thread.cc(221)] Waited 5 ms for network service\n",
      "Opening in existing browser session.\n",
      "\n",
      "Press the 'q' key, Control-C, or Control-D to quit. This view may no longer be accessible or work correctly after quitting."
     ]
    }
   ],
   "source": [
    "!qiime tools view stats-dada2.qzv"
   ]
  },
  {
   "cell_type": "code",
   "execution_count": 3,
   "metadata": {},
   "outputs": [
    {
     "name": "stdout",
     "output_type": "stream",
     "text": [
      "\u001b[32mSaved SampleData[SequencesWithQuality] to: demux-filtered.qza\u001b[0m\n",
      "\u001b[32mSaved QualityFilterStats to: demux-filter-stats.qza\u001b[0m\n"
     ]
    }
   ],
   "source": [
    "!qiime quality-filter q-score \\\n",
    "--i-demux demux.qza \\\n",
    "--o-filtered-sequences demux-filtered.qza \\\n",
    "--o-filter-stats demux-filter-stats.qza"
   ]
  },
  {
   "cell_type": "code",
   "execution_count": 5,
   "metadata": {},
   "outputs": [
    {
     "name": "stdout",
     "output_type": "stream",
     "text": [
      "\u001b[32mSaved FeatureTable[Frequency] to: table-deblur.qza\u001b[0m\n",
      "\u001b[32mSaved FeatureData[Sequence] to: rep-seqs-deblur.qza\u001b[0m\n",
      "\u001b[32mSaved DeblurStats to: deblur-stats.qza\u001b[0m\n"
     ]
    }
   ],
   "source": [
    "!qiime deblur denoise-16S \\\n",
    "--i-demultiplexed-seqs demux-filtered.qza \\\n",
    "--p-trim-length 120 \\\n",
    "--o-representative-sequences rep-seqs-deblur.qza \\\n",
    "--o-table table-deblur.qza \\\n",
    "--p-sample-stats \\\n",
    "--o-stats deblur-stats.qza"
   ]
  },
  {
   "cell_type": "code",
   "execution_count": 6,
   "metadata": {},
   "outputs": [
    {
     "name": "stdout",
     "output_type": "stream",
     "text": [
      "\u001b[32mSaved Visualization to: demux-filter-stats.qzv\u001b[0m\n",
      "\u001b[32mSaved Visualization to: deblur-stats.qzv\u001b[0m\n"
     ]
    }
   ],
   "source": [
    "!qiime metadata tabulate \\\n",
    "--m-input-file demux-filter-stats.qza \\\n",
    "--o-visualization demux-filter-stats.qzv\n",
    "!qiime deblur visualize-stats \\\n",
    "--i-deblur-stats deblur-stats.qza \\\n",
    "--o-visualization deblur-stats.qzv"
   ]
  },
  {
   "cell_type": "code",
   "execution_count": 10,
   "metadata": {},
   "outputs": [
    {
     "name": "stdout",
     "output_type": "stream",
     "text": [
      "Press the 'q' key, Control-C, or Control-D to quit. This view may no longer be accessible or work correctly after quitting.[9238:9257:1112/001848.928245:ERROR:browser_process_sub_thread.cc(221)] Waited 5 ms for network service\n",
      "Opening in existing browser session.\n",
      "\n",
      "Press the 'q' key, Control-C, or Control-D to quit. This view may no longer be accessible or work correctly after quitting."
     ]
    }
   ],
   "source": [
    "!qiime tools view demux-filter-stats.qzv"
   ]
  },
  {
   "cell_type": "code",
   "execution_count": 11,
   "metadata": {},
   "outputs": [
    {
     "name": "stdout",
     "output_type": "stream",
     "text": [
      "Press the 'q' key, Control-C, or Control-D to quit. This view may no longer be accessible or work correctly after quitting.[9434:9434:1112/002002.548707:ERROR:sandbox_linux.cc(368)] InitializeSandbox() called with multiple threads in process gpu-process.\n",
      "[9397:9416:1112/002002.553971:ERROR:browser_process_sub_thread.cc(221)] Waited 7 ms for network service\n",
      "Opening in existing browser session.\n",
      "\n",
      "Press the 'q' key, Control-C, or Control-D to quit. This view may no longer be accessible or work correctly after quitting."
     ]
    }
   ],
   "source": [
    "!qiime tools view deblur-stats.qzv"
   ]
  },
  {
   "cell_type": "code",
   "execution_count": 12,
   "metadata": {},
   "outputs": [],
   "source": [
    "!mv rep-seqs-deblur.qza rep-seqs.qza\n",
    "!mv table-deblur.qza table.qza"
   ]
  },
  {
   "cell_type": "code",
   "execution_count": 13,
   "metadata": {},
   "outputs": [
    {
     "name": "stdout",
     "output_type": "stream",
     "text": [
      "\u001b[32mSaved Visualization to: table.qzv\u001b[0m\n",
      "\u001b[32mSaved Visualization to: rep-seqs.qzv\u001b[0m\n"
     ]
    }
   ],
   "source": [
    "!qiime feature-table summarize \\\n",
    "--i-table table.qza \\\n",
    "--o-visualization table.qzv \\\n",
    "--m-sample-metadata-file sample-metadata.tsv\n",
    "!qiime feature-table tabulate-seqs \\\n",
    "--i-data rep-seqs.qza \\\n",
    "--o-visualization rep-seqs.qzv"
   ]
  },
  {
   "cell_type": "code",
   "execution_count": 14,
   "metadata": {},
   "outputs": [
    {
     "name": "stdout",
     "output_type": "stream",
     "text": [
      "Press the 'q' key, Control-C, or Control-D to quit. This view may no longer be accessible or work correctly after quitting.[9621:9639:1112/002130.888978:ERROR:browser_process_sub_thread.cc(221)] Waited 3 ms for network service\n",
      "Opening in existing browser session.\n",
      "\n",
      "Press the 'q' key, Control-C, or Control-D to quit. This view may no longer be accessible or work correctly after quitting."
     ]
    }
   ],
   "source": [
    "!qiime tools view table.qzv"
   ]
  },
  {
   "cell_type": "code",
   "execution_count": 15,
   "metadata": {},
   "outputs": [
    {
     "name": "stdout",
     "output_type": "stream",
     "text": [
      "Press the 'q' key, Control-C, or Control-D to quit. This view may no longer be accessible or work correctly after quitting.[9822:9822:1112/002336.434619:ERROR:sandbox_linux.cc(368)] InitializeSandbox() called with multiple threads in process gpu-process.\n",
      "[9786:9805:1112/002336.438620:ERROR:browser_process_sub_thread.cc(221)] Waited 5 ms for network service\n",
      "Opening in existing browser session.\n",
      "\n",
      "Press the 'q' key, Control-C, or Control-D to quit. This view may no longer be accessible or work correctly after quitting."
     ]
    }
   ],
   "source": [
    "!qiime tools view rep-seqs.qzv"
   ]
  },
  {
   "cell_type": "code",
   "execution_count": 16,
   "metadata": {},
   "outputs": [
    {
     "name": "stdout",
     "output_type": "stream",
     "text": [
      "\u001b[32mSaved FeatureData[AlignedSequence] to: aligned-rep-seqs.qza\u001b[0m\n",
      "\u001b[32mSaved FeatureData[AlignedSequence] to: masked-aligned-rep-seqs.qza\u001b[0m\n",
      "\u001b[32mSaved Phylogeny[Unrooted] to: unrooted-tree.qza\u001b[0m\n",
      "\u001b[32mSaved Phylogeny[Rooted] to: rooted-tree.qza\u001b[0m\n"
     ]
    }
   ],
   "source": [
    "!qiime phylogeny align-to-tree-mafft-fasttree \\\n",
    "--i-sequences rep-seqs.qza \\\n",
    "--o-alignment aligned-rep-seqs.qza \\\n",
    "--o-masked-alignment masked-aligned-rep-seqs.qza \\\n",
    "--o-tree unrooted-tree.qza \\\n",
    "--o-rooted-tree rooted-tree.qza"
   ]
  },
  {
   "cell_type": "code",
   "execution_count": 17,
   "metadata": {},
   "outputs": [
    {
     "name": "stdout",
     "output_type": "stream",
     "text": [
      "\u001b[32mSaved FeatureTable[Frequency] to: core-metrics-results/rarefied_table.qza\u001b[0m\n",
      "\u001b[32mSaved SampleData[AlphaDiversity] % Properties('phylogenetic') to: core-metrics-results/faith_pd_vector.qza\u001b[0m\n",
      "\u001b[32mSaved SampleData[AlphaDiversity] to: core-metrics-results/observed_otus_vector.qza\u001b[0m\n",
      "\u001b[32mSaved SampleData[AlphaDiversity] to: core-metrics-results/shannon_vector.qza\u001b[0m\n",
      "\u001b[32mSaved SampleData[AlphaDiversity] to: core-metrics-results/evenness_vector.qza\u001b[0m\n",
      "\u001b[32mSaved DistanceMatrix % Properties('phylogenetic') to: core-metrics-results/unweighted_unifrac_distance_matrix.qza\u001b[0m\n",
      "\u001b[32mSaved DistanceMatrix % Properties('phylogenetic') to: core-metrics-results/weighted_unifrac_distance_matrix.qza\u001b[0m\n",
      "\u001b[32mSaved DistanceMatrix to: core-metrics-results/jaccard_distance_matrix.qza\u001b[0m\n",
      "\u001b[32mSaved DistanceMatrix to: core-metrics-results/bray_curtis_distance_matrix.qza\u001b[0m\n",
      "\u001b[32mSaved PCoAResults to: core-metrics-results/unweighted_unifrac_pcoa_results.qza\u001b[0m\n",
      "\u001b[32mSaved PCoAResults to: core-metrics-results/weighted_unifrac_pcoa_results.qza\u001b[0m\n",
      "\u001b[32mSaved PCoAResults to: core-metrics-results/jaccard_pcoa_results.qza\u001b[0m\n",
      "\u001b[32mSaved PCoAResults to: core-metrics-results/bray_curtis_pcoa_results.qza\u001b[0m\n",
      "\u001b[32mSaved Visualization to: core-metrics-results/unweighted_unifrac_emperor.qzv\u001b[0m\n",
      "\u001b[32mSaved Visualization to: core-metrics-results/weighted_unifrac_emperor.qzv\u001b[0m\n",
      "\u001b[32mSaved Visualization to: core-metrics-results/jaccard_emperor.qzv\u001b[0m\n",
      "\u001b[32mSaved Visualization to: core-metrics-results/bray_curtis_emperor.qzv\u001b[0m\n"
     ]
    }
   ],
   "source": [
    "!qiime diversity core-metrics-phylogenetic \\\n",
    "--i-phylogeny rooted-tree.qza \\\n",
    "--i-table table.qza \\\n",
    "--p-sampling-depth 1109 \\\n",
    "--m-metadata-file sample-metadata.tsv \\\n",
    "--output-dir core-metrics-results"
   ]
  },
  {
   "cell_type": "code",
   "execution_count": 2,
   "metadata": {},
   "outputs": [
    {
     "name": "stdout",
     "output_type": "stream",
     "text": [
      "Press the 'q' key, Control-C, or Control-D to quit. This view may no longer be accessible or work correctly after quitting.[5633:5633:1113/182603.772205:ERROR:sandbox_linux.cc(368)] InitializeSandbox() called with multiple threads in process gpu-process.\n",
      "[5598:5617:1113/182603.791390:ERROR:browser_process_sub_thread.cc(221)] Waited 5 ms for network service\n",
      "Opening in existing browser session.\n",
      "\n",
      "Press the 'q' key, Control-C, or Control-D to quit. This view may no longer be accessible or work correctly after quitting."
     ]
    }
   ],
   "source": [
    "!qiime tools view core-metrics-results/bray_curtis_emperor.qzv"
   ]
  },
  {
   "cell_type": "code",
   "execution_count": 3,
   "metadata": {},
   "outputs": [
    {
     "name": "stdout",
     "output_type": "stream",
     "text": [
      "\u001b[32mSaved Visualization to: core-metrics-results/faith-pd-group-significance.qzv\u001b[0m\n",
      "\u001b[32mSaved Visualization to: core-metrics-results/evenness-group-significance.qzv\u001b[0m\n"
     ]
    }
   ],
   "source": [
    "!qiime diversity alpha-group-significance \\\n",
    "  --i-alpha-diversity core-metrics-results/faith_pd_vector.qza \\\n",
    "  --m-metadata-file sample-metadata.tsv \\\n",
    "  --o-visualization core-metrics-results/faith-pd-group-significance.qzv\n",
    "\n",
    "!qiime diversity alpha-group-significance \\\n",
    "  --i-alpha-diversity core-metrics-results/evenness_vector.qza \\\n",
    "  --m-metadata-file sample-metadata.tsv \\\n",
    "  --o-visualization core-metrics-results/evenness-group-significance.qzv"
   ]
  },
  {
   "cell_type": "code",
   "execution_count": 4,
   "metadata": {},
   "outputs": [
    {
     "name": "stdout",
     "output_type": "stream",
     "text": [
      "Press the 'q' key, Control-C, or Control-D to quit. This view may no longer be accessible or work correctly after quitting.[6104:6104:1113/183251.358946:ERROR:sandbox_linux.cc(368)] InitializeSandbox() called with multiple threads in process gpu-process.\n",
      "[6068:6087:1113/183251.363795:ERROR:browser_process_sub_thread.cc(221)] Waited 6 ms for network service\n",
      "Opening in existing browser session.\n",
      "\n",
      "Press the 'q' key, Control-C, or Control-D to quit. This view may no longer be accessible or work correctly after quitting."
     ]
    }
   ],
   "source": [
    "!qiime tools view core-metrics-results/faith-pd-group-significance.qzv"
   ]
  },
  {
   "cell_type": "code",
   "execution_count": 5,
   "metadata": {},
   "outputs": [
    {
     "name": "stdout",
     "output_type": "stream",
     "text": [
      "\u001b[32mSaved Visualization to: core-metrics-results/unweighted-unifrac-body-site-significance.qzv\u001b[0m\n",
      "\u001b[32mSaved Visualization to: core-metrics-results/unweighted-unifrac-subject-group-significance.qzv\u001b[0m\n"
     ]
    }
   ],
   "source": [
    "!qiime diversity beta-group-significance \\\n",
    "  --i-distance-matrix core-metrics-results/unweighted_unifrac_distance_matrix.qza \\\n",
    "  --m-metadata-file sample-metadata.tsv \\\n",
    "  --m-metadata-column body-site \\\n",
    "  --o-visualization core-metrics-results/unweighted-unifrac-body-site-significance.qzv \\\n",
    "  --p-pairwise\n",
    "\n",
    "!qiime diversity beta-group-significance \\\n",
    "  --i-distance-matrix core-metrics-results/unweighted_unifrac_distance_matrix.qza \\\n",
    "  --m-metadata-file sample-metadata.tsv \\\n",
    "  --m-metadata-column subject \\\n",
    "  --o-visualization core-metrics-results/unweighted-unifrac-subject-group-significance.qzv \\\n",
    "  --p-pairwise"
   ]
  },
  {
   "cell_type": "code",
   "execution_count": 6,
   "metadata": {},
   "outputs": [
    {
     "name": "stdout",
     "output_type": "stream",
     "text": [
      "Press the 'q' key, Control-C, or Control-D to quit. This view may no longer be accessible or work correctly after quitting.[6326:6326:1113/183524.750401:ERROR:sandbox_linux.cc(368)] InitializeSandbox() called with multiple threads in process gpu-process.\n",
      "[6289:6308:1113/183524.765200:ERROR:browser_process_sub_thread.cc(221)] Waited 3 ms for network service\n",
      "Opening in existing browser session.\n",
      "\n",
      "Press the 'q' key, Control-C, or Control-D to quit. This view may no longer be accessible or work correctly after quitting."
     ]
    }
   ],
   "source": [
    "!qiime tools view core-metrics-results/unweighted-unifrac-body-site-significance.qzv"
   ]
  },
  {
   "cell_type": "code",
   "execution_count": 7,
   "metadata": {},
   "outputs": [
    {
     "name": "stdout",
     "output_type": "stream",
     "text": [
      "\u001b[32mSaved Visualization to: core-metrics-results/unweighted-unifrac-emperor-days-since-experiment-start.qzv\u001b[0m\n",
      "\u001b[32mSaved Visualization to: core-metrics-results/bray-curtis-emperor-days-since-experiment-start.qzv\u001b[0m\n"
     ]
    }
   ],
   "source": [
    "!qiime emperor plot \\\n",
    "  --i-pcoa core-metrics-results/unweighted_unifrac_pcoa_results.qza \\\n",
    "  --m-metadata-file sample-metadata.tsv \\\n",
    "  --p-custom-axes days-since-experiment-start \\\n",
    "  --o-visualization core-metrics-results/unweighted-unifrac-emperor-days-since-experiment-start.qzv\n",
    "\n",
    "!qiime emperor plot \\\n",
    "  --i-pcoa core-metrics-results/bray_curtis_pcoa_results.qza \\\n",
    "  --m-metadata-file sample-metadata.tsv \\\n",
    "  --p-custom-axes days-since-experiment-start \\\n",
    "  --o-visualization core-metrics-results/bray-curtis-emperor-days-since-experiment-start.qzv"
   ]
  },
  {
   "cell_type": "code",
   "execution_count": 8,
   "metadata": {},
   "outputs": [
    {
     "name": "stdout",
     "output_type": "stream",
     "text": [
      "Press the 'q' key, Control-C, or Control-D to quit. This view may no longer be accessible or work correctly after quitting.[6520:6520:1113/183623.695186:ERROR:sandbox_linux.cc(368)] InitializeSandbox() called with multiple threads in process gpu-process.\n",
      "[6483:6502:1113/183623.700333:ERROR:browser_process_sub_thread.cc(221)] Waited 5 ms for network service\n",
      "Opening in existing browser session.\n",
      "\n",
      "Press the 'q' key, Control-C, or Control-D to quit. This view may no longer be accessible or work correctly after quitting."
     ]
    }
   ],
   "source": [
    "!qiime tools view core-metrics-results/bray-curtis-emperor-days-since-experiment-start.qzv"
   ]
  },
  {
   "cell_type": "code",
   "execution_count": 9,
   "metadata": {},
   "outputs": [
    {
     "name": "stdout",
     "output_type": "stream",
     "text": [
      "\u001b[32mSaved Visualization to: alpha-rarefaction.qzv\u001b[0m\n"
     ]
    }
   ],
   "source": [
    "!qiime diversity alpha-rarefaction \\\n",
    "  --i-table table.qza \\\n",
    "  --i-phylogeny rooted-tree.qza \\\n",
    "  --p-max-depth 4000 \\\n",
    "  --m-metadata-file sample-metadata.tsv \\\n",
    "  --o-visualization alpha-rarefaction.qzv"
   ]
  },
  {
   "cell_type": "markdown",
   "metadata": {},
   "source": [
    "the database have been downloaded before, but if you want to donwnload it you can use : "
   ]
  },
  {
   "cell_type": "code",
   "execution_count": 11,
   "metadata": {},
   "outputs": [
    {
     "name": "stdout",
     "output_type": "stream",
     "text": [
      "--2019-11-13 18:43:53--  https://data.qiime2.org/2019.10/common/gg-13-8-99-515-806-nb-classifier.qza\n",
      "Resolving data.qiime2.org... 52.35.38.247\n",
      "Connecting to data.qiime2.org|52.35.38.247|:443... connected.\n",
      "HTTP request sent, awaiting response... 302 FOUND\n",
      "Location: https://s3-us-west-2.amazonaws.com/qiime2-data/2019.10/common/gg-13-8-99-515-806-nb-classifier.qza [following]\n",
      "--2019-11-13 18:43:55--  https://s3-us-west-2.amazonaws.com/qiime2-data/2019.10/common/gg-13-8-99-515-806-nb-classifier.qza\n",
      "Resolving s3-us-west-2.amazonaws.com... 52.218.218.72\n",
      "Connecting to s3-us-west-2.amazonaws.com|52.218.218.72|:443... connected.\n",
      "HTTP request sent, awaiting response... 200 OK\n",
      "Length: 28373760 (27M) [binary/octet-stream]\n",
      "Saving to: ‘gg-13-8-99-515-806-nb-classifier.qza’\n",
      "\n",
      "gg-13-8-99-515-806- 100%[===================>]  27,06M   595KB/s    in 91s     \n",
      "\n",
      "2019-11-13 18:45:27 (305 KB/s) - ‘gg-13-8-99-515-806-nb-classifier.qza’ saved [28373760/28373760]\n",
      "\n"
     ]
    }
   ],
   "source": [
    "!wget \\\n",
    "  -O \"gg-13-8-99-515-806-nb-classifier.qza\" \\\n",
    "  \"https://data.qiime2.org/2019.10/common/gg-13-8-99-515-806-nb-classifier.qza\""
   ]
  },
  {
   "cell_type": "code",
   "execution_count": 12,
   "metadata": {},
   "outputs": [
    {
     "name": "stdout",
     "output_type": "stream",
     "text": [
      "\u001b[32mSaved FeatureData[Taxonomy] to: taxonomy.qza\u001b[0m\n",
      "\u001b[32mSaved Visualization to: taxonomy.qzv\u001b[0m\n"
     ]
    }
   ],
   "source": [
    "!qiime feature-classifier classify-sklearn \\\n",
    "  --i-classifier gg-13-8-99-515-806-nb-classifier.qza \\\n",
    "  --i-reads rep-seqs.qza \\\n",
    "  --o-classification taxonomy.qza\n",
    "\n",
    "!qiime metadata tabulate \\\n",
    "  --m-input-file taxonomy.qza \\\n",
    "  --o-visualization taxonomy.qzv"
   ]
  },
  {
   "cell_type": "code",
   "execution_count": 13,
   "metadata": {},
   "outputs": [
    {
     "name": "stdout",
     "output_type": "stream",
     "text": [
      "Press the 'q' key, Control-C, or Control-D to quit. This view may no longer be accessible or work correctly after quitting.[7027:7027:1113/184714.689832:ERROR:sandbox_linux.cc(368)] InitializeSandbox() called with multiple threads in process gpu-process.\n",
      "[6991:7010:1113/184714.694851:ERROR:browser_process_sub_thread.cc(221)] Waited 3 ms for network service\n",
      "Opening in existing browser session.\n",
      "\n",
      "Press the 'q' key, Control-C, or Control-D to quit. This view may no longer be accessible or work correctly after quitting."
     ]
    }
   ],
   "source": [
    "!qiime tools view taxonomy.qzv"
   ]
  },
  {
   "cell_type": "code",
   "execution_count": 14,
   "metadata": {},
   "outputs": [
    {
     "name": "stdout",
     "output_type": "stream",
     "text": [
      "\u001b[32mSaved Visualization to: taxa-bar-plots.qzv\u001b[0m\n"
     ]
    }
   ],
   "source": [
    "!qiime taxa barplot \\\n",
    "  --i-table table.qza \\\n",
    "  --i-taxonomy taxonomy.qza \\\n",
    "  --m-metadata-file sample-metadata.tsv \\\n",
    "  --o-visualization taxa-bar-plots.qzv"
   ]
  },
  {
   "cell_type": "code",
   "execution_count": 16,
   "metadata": {},
   "outputs": [
    {
     "name": "stdout",
     "output_type": "stream",
     "text": [
      "Press the 'q' key, Control-C, or Control-D to quit. This view may no longer be accessible or work correctly after quitting.[7215:7215:1113/184944.798450:ERROR:sandbox_linux.cc(368)] InitializeSandbox() called with multiple threads in process gpu-process.\n",
      "[7179:7198:1113/184944.804412:ERROR:browser_process_sub_thread.cc(221)] Waited 3 ms for network service\n",
      "Opening in existing browser session.\n",
      "\n",
      "Press the 'q' key, Control-C, or Control-D to quit. This view may no longer be accessible or work correctly after quitting."
     ]
    }
   ],
   "source": [
    "!qiime tools view taxa-bar-plots.qzv"
   ]
  },
  {
   "cell_type": "markdown",
   "metadata": {},
   "source": [
    "# Differential abundance testing with ANCOM"
   ]
  },
  {
   "cell_type": "code",
   "execution_count": 17,
   "metadata": {},
   "outputs": [
    {
     "name": "stdout",
     "output_type": "stream",
     "text": [
      "\u001b[32mSaved FeatureTable[Frequency] to: gut-table.qza\u001b[0m\n"
     ]
    }
   ],
   "source": [
    "!qiime feature-table filter-samples \\\n",
    "  --i-table table.qza \\\n",
    "  --m-metadata-file sample-metadata.tsv \\\n",
    "  --p-where \"[body-site]='gut'\" \\\n",
    "  --o-filtered-table gut-table.qza"
   ]
  },
  {
   "cell_type": "code",
   "execution_count": 18,
   "metadata": {},
   "outputs": [
    {
     "name": "stdout",
     "output_type": "stream",
     "text": [
      "\u001b[32mSaved FeatureTable[Composition] to: comp-gut-table.qza\u001b[0m\n"
     ]
    }
   ],
   "source": [
    "!qiime composition add-pseudocount \\\n",
    "  --i-table gut-table.qza \\\n",
    "  --o-composition-table comp-gut-table.qza"
   ]
  },
  {
   "cell_type": "code",
   "execution_count": 19,
   "metadata": {},
   "outputs": [
    {
     "name": "stdout",
     "output_type": "stream",
     "text": [
      "\u001b[32mSaved Visualization to: ancom-subject.qzv\u001b[0m\n"
     ]
    }
   ],
   "source": [
    "!qiime composition ancom \\\n",
    "  --i-table comp-gut-table.qza \\\n",
    "  --m-metadata-file sample-metadata.tsv \\\n",
    "  --m-metadata-column subject \\\n",
    "  --o-visualization ancom-subject.qzv"
   ]
  },
  {
   "cell_type": "code",
   "execution_count": 20,
   "metadata": {},
   "outputs": [
    {
     "name": "stdout",
     "output_type": "stream",
     "text": [
      "Press the 'q' key, Control-C, or Control-D to quit. This view may no longer be accessible or work correctly after quitting.[8160:8179:1113/191850.707041:ERROR:browser_process_sub_thread.cc(221)] Waited 3 ms for network service\n",
      "Opening in existing browser session.\n",
      "\n",
      "Press the 'q' key, Control-C, or Control-D to quit. This view may no longer be accessible or work correctly after quitting."
     ]
    }
   ],
   "source": [
    "!qiime tools view ancom-subject.qzv"
   ]
  },
  {
   "cell_type": "code",
   "execution_count": 22,
   "metadata": {},
   "outputs": [
    {
     "name": "stdout",
     "output_type": "stream",
     "text": [
      "\u001b[32mSaved FeatureTable[Frequency] to: gut-table-l6.qza\u001b[0m\n",
      "\u001b[32mSaved FeatureTable[Composition] to: comp-gut-table-l6.qza\u001b[0m\n",
      "\u001b[32mSaved Visualization to: l6-ancom-subject.qzv\u001b[0m\n"
     ]
    }
   ],
   "source": [
    "!qiime taxa collapse \\\n",
    "  --i-table gut-table.qza \\\n",
    "  --i-taxonomy taxonomy.qza \\\n",
    "  --p-level 6 \\\n",
    "  --o-collapsed-table gut-table-l6.qza\n",
    "\n",
    "!qiime composition add-pseudocount \\\n",
    "  --i-table gut-table-l6.qza \\\n",
    "  --o-composition-table comp-gut-table-l6.qza\n",
    "\n",
    "!qiime composition ancom \\\n",
    "  --i-table comp-gut-table-l6.qza \\\n",
    "  --m-metadata-file sample-metadata.tsv \\\n",
    "  --m-metadata-column subject \\\n",
    "  --o-visualization l6-ancom-subject.qzv"
   ]
  },
  {
   "cell_type": "code",
   "execution_count": 23,
   "metadata": {},
   "outputs": [
    {
     "name": "stdout",
     "output_type": "stream",
     "text": [
      "Press the 'q' key, Control-C, or Control-D to quit. This view may no longer be accessible or work correctly after quitting.[8999:9018:1113/194818.601859:ERROR:browser_process_sub_thread.cc(221)] Waited 6 ms for network service\n",
      "Opening in existing browser session.\n",
      "\n",
      "Press the 'q' key, Control-C, or Control-D to quit. This view may no longer be accessible or work correctly after quitting."
     ]
    }
   ],
   "source": [
    "!qiime tools view l6-ancom-subject.qzv"
   ]
  },
  {
   "cell_type": "code",
   "execution_count": null,
   "metadata": {},
   "outputs": [],
   "source": []
  }
 ],
 "metadata": {
  "kernelspec": {
   "display_name": "Python 3",
   "language": "python",
   "name": "python3"
  },
  "language_info": {
   "codemirror_mode": {
    "name": "ipython",
    "version": 3
   },
   "file_extension": ".py",
   "mimetype": "text/x-python",
   "name": "python",
   "nbconvert_exporter": "python",
   "pygments_lexer": "ipython3",
   "version": "3.7.3"
  }
 },
 "nbformat": 4,
 "nbformat_minor": 4
}
