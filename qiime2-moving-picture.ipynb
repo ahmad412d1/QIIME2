{
 "cells": [
  {
   "cell_type": "markdown",
   "metadata": {},
   "source": [
    "<h1>QIIME2 Tutorial menggunakan Python melalui Jupyter Notebook/Lab</h1>"
   ]
  },
  {
   "cell_type": "markdown",
   "metadata": {},
   "source": [
    "Tutorial ini merupakan merupakan tutorial analisis microbiome \"Moving Picture\". Analisis QIIME2 ini berasal dari sampel microbimoe manusia yang sebelumnya telah dipublikasikan oleh Caporasso et al. (2011). Data yang digunakan merupakan hasil sekuensing NSG Illumina HiSeq terhadap Hypervariabel region 4 (V4) 16S rRNA menggunakan protocol Earth Microbiome Project.\n",
    "\n",
    "Disini saya menggunakan QIIME2 versi 2019.10 dan kemungkinan anda menggunakan QIIME2 versi terbaru. tidak banyak tools yang berubah , tapi pastikan anda perhatikan sumber tutorial ini untuk lebih jelasnya. \n",
    "https://docs.qiime2.org/2020.11/tutorials/moving-pictures/"
   ]
  },
  {
   "cell_type": "markdown",
   "metadata": {},
   "source": [
    "OUTLINE:\n",
    "<ol>\n",
    "    <li>Membuat Directory atau Folder baru</li>\n",
    "    <li>Mendapatkan Metadata Sample</li>\n",
    "    <li>Unduh data dan Import Data</li>\n",
    "    <li>Demultiplexing Seqeunce</li>\n",
    "    <li>Sequence Quality Control dan Konstruksi feature table</li>\n",
    "    <li>FeatureTable dan FeatureData Summaries</li>\n",
    "    <li>Membuat pohon untuk analisis diversitas filogenetik</li>\n",
    "    <li>Analisi Diversitas Alfa dan Beta</li>\n",
    "    <li>Alfa rarefaction plotting</li>\n",
    "    <li>Analisis Taksnonomi</li>\n",
    "    <li>Differential abundance testing with ANCOM</li>\n",
    "</ol> "
   ]
  },
  {
   "cell_type": "markdown",
   "metadata": {},
   "source": [
    "<h2>1. Membuat Directory atau Folder Baru</h2>"
   ]
  },
  {
   "cell_type": "markdown",
   "metadata": {},
   "source": [
    "Sebelum melakukan analisi, ada baiknya dibuat directory atau file baru untuk menampung seluruh hasil analisis yang dilakukan. Adapun comment \"mkdir\" digunakan untuk membuat directory baru, kemudian disusul nama directorynya. Selanjutnya \"cd\" untuk berpindah ke directory yang telah dibuat sebelumnya, tentunya dengan menuliskan nama directorynya. Jika lupa nama directorynya, bisa menuliskan \"dir\" untuk melihat directory apa saya yang ada dalam directory kerja kita sekarang."
   ]
  },
  {
   "cell_type": "markdown",
   "metadata": {},
   "source": [
    "Perlu diperhatikan untuk setiap line wajib ditambahkan tanda seru \"!\" agar terbaca sebagai command line. "
   ]
  },
  {
   "cell_type": "code",
   "execution_count": null,
   "metadata": {
    "jupyter": {
     "outputs_hidden": true
    }
   },
   "outputs": [],
   "source": [
    "!mkdir qiime2-moving-pictures-tutorial\n",
    "!cd qiime2-moving-pictures-tutorial"
   ]
  },
  {
   "cell_type": "markdown",
   "metadata": {},
   "source": [
    "<h2>2. Mendapatkan Metadata Sample</h2>"
   ]
  },
  {
   "cell_type": "markdown",
   "metadata": {},
   "source": [
    "Metadata merupakan data pendukung analisis microbiome yang berisikan keterangan parameter lingkungan, jenis perlakuan, informasi sumber sample, waktu pengisolasian sample, dan keterngan-keterngan pendukung sampel. Oleh karena itu dalam QIIME2 sangat penting adanya metadata sample karena diperlukan untuk proses selanjutnya. Dalam banyak kasus perlu dibuat metadata sesuai dengan eksperimen yang dilakukan dengan mengacu pada format metadata QIIME2 pada laman <a href=\"https://docs.qiime2.org/2020.11/tutorials/metadata/\">QIIME2 docs metadata</a> ."
   ]
  },
  {
   "cell_type": "markdown",
   "metadata": {},
   "source": [
    "Dalam tahap ini, akan diperoleh metadata melalui command \"wget\" yang diunduh dari laman dibawah ini.Metadata akan secara otomatis tersimpan dalam working directory (folder kita bekerja saat ini)."
   ]
  },
  {
   "cell_type": "markdown",
   "metadata": {},
   "source": [
    "Untuk mengecek lokasi working directory, dapat dituliskan:"
   ]
  },
  {
   "cell_type": "code",
   "execution_count": null,
   "metadata": {
    "jupyter": {
     "outputs_hidden": true
    }
   },
   "outputs": [],
   "source": [
    "import os\n",
    "os.getcwd()"
   ]
  },
  {
   "cell_type": "code",
   "execution_count": null,
   "metadata": {
    "jupyter": {
     "outputs_hidden": true
    }
   },
   "outputs": [],
   "source": [
    "!wget \\\n",
    "  -O \"sample-metadata.tsv\" \\\n",
    "  \"https://data.qiime2.org/2019.10/tutorials/moving-pictures/sample_metadata.tsv\""
   ]
  },
  {
   "cell_type": "markdown",
   "metadata": {},
   "source": [
    "<h2>3. Unduh data dan Import Data</h2>"
   ]
  },
  {
   "cell_type": "markdown",
   "metadata": {},
   "source": [
    "pertama-tama buatlah sebuah sub-directory (contoh: emp-single-end-sequence). kemudian unduh data. "
   ]
  },
  {
   "cell_type": "code",
   "execution_count": null,
   "metadata": {
    "jupyter": {
     "outputs_hidden": true
    }
   },
   "outputs": [],
   "source": [
    "!mkdir emp-single-end-sequences"
   ]
  },
  {
   "cell_type": "markdown",
   "metadata": {},
   "source": [
    "Sekuens secara otomatis tersimpan dalam sub-directory yang telah dibuat sebelumnya. \n",
    "\n",
    "Perlu diperhatikan tipe sekuens hasil NGS yang ingin di import, karena di tutorial ini digunakan EMP protocol multiplexed single-end. Selain itu terdapat tipe lain seperti EMP Protocaol multiplexed paired-end, Casava 1.8 single-end demultiplexed fastq, Casava 1.8 paired-end demultiplexed fastq, Multiplexed paired-end FASTQ with barcodes in sequence, dll. Misal, sekuens anda merupakan paired-end, tentunya importing data pada tutorial ini tidak akan dapat digunakan. lebih jelasnya dapat mengunjungi QIIME2 docs importing data https://docs.qiime2.org/2020.8/tutorials/importing/#sequence-data-with-sequence-quality-information-i-e-fastq "
   ]
  },
  {
   "cell_type": "markdown",
   "metadata": {},
   "source": [
    "Ditahap ini dilakukan importing pada 2 data, yaitu data barcode dan sequence fastq. Barcode atau index adapter (1) digunakan sebagai tag atau \"tanda pengenal\" untuk tiap sequence library (2).\n"
   ]
  },
  {
   "cell_type": "code",
   "execution_count": null,
   "metadata": {
    "jupyter": {
     "outputs_hidden": true
    }
   },
   "outputs": [],
   "source": [
    "!wget \\\n",
    "  -O \"emp-single-end-sequences/barcodes.fastq.gz\" \\ #file barcodes.fastq.gz disimipan dalam sub-directory emp-single-end-sequence\n",
    "  \"https://data.qiime2.org/2019.10/tutorials/moving-pictures/emp-single-end-sequences/barcodes.fastq.gz\""
   ]
  },
  {
   "cell_type": "markdown",
   "metadata": {},
   "source": [
    "Importing sequence fastq"
   ]
  },
  {
   "cell_type": "code",
   "execution_count": null,
   "metadata": {
    "jupyter": {
     "outputs_hidden": true
    }
   },
   "outputs": [],
   "source": [
    "!wget \\\n",
    "  -O \"emp-single-end-sequences/sequences.fastq.gz\" \\ #file sequence.fastq.gz disimipan dalam sub-directory emp-single-end-sequence\n",
    "  \"https://data.qiime2.org/2019.10/tutorials/moving-pictures/emp-single-end-sequences/sequences.fastq.gz\""
   ]
  },
  {
   "cell_type": "markdown",
   "metadata": {},
   "source": [
    "Semua data yang di input ke QIIME2 dalam bentuk QIIME2 artifact, yang mana berisikan informasi mengenai tipe data dan sumber data. Oleh karena itu, setelah memperoleh data sequence dan barcode selajutnya kedua data sequence tersebut diubah kedalam betuk QIIME2 artifact. "
   ]
  },
  {
   "cell_type": "code",
   "execution_count": null,
   "metadata": {
    "jupyter": {
     "outputs_hidden": true
    }
   },
   "outputs": [],
   "source": [
    "!qiime tools import \\\n",
    "  --type EMPSingleEndSequences \\\n",
    "  --input-path emp-single-end-sequences \\ #input berasal dari directory tempat tersimpannya barcodes.fastq.gz dan sequences.fastq.gz\n",
    "  --output-path emp-single-end-sequences.qzan #output berupa artifact QIIME2 dengan extention .gza"
   ]
  },
  {
   "cell_type": "code",
   "execution_count": null,
   "metadata": {
    "jupyter": {
     "outputs_hidden": true
    }
   },
   "outputs": [],
   "source": [
    "#untuk melihat data artifact QIIME2\n",
    "!qiime tools peek emp-single-end-sequences.qza"
   ]
  },
  {
   "cell_type": "markdown",
   "metadata": {},
   "source": [
    "<h2>4. Demultiplexing Sequences</h2>"
   ]
  },
  {
   "cell_type": "markdown",
   "metadata": {},
   "source": [
    "Demultiplexing merupakan tahap awal dari Quality Filtering yang mana pada tahap demultiplexing seqeunce fastq akan dikelompokkan berdasarkan barcode yang terdapat pada metadata (Moving Pictures sample-metadata). sequence yang tidak terbaca oleh barcode akan dibuang atau dengan kata lain memiliki kualitas dibawah threshold (3)."
   ]
  },
  {
   "cell_type": "code",
   "execution_count": null,
   "metadata": {
    "jupyter": {
     "outputs_hidden": true
    }
   },
   "outputs": [],
   "source": [
    "!qiime demux emp-single \\\n",
    "  --i-seqs emp-single-end-sequences.qza \\ #input data dari artiact QIIME2 yang sebelumnya dibuat\n",
    "  --m-barcodes-file sample-metadata.tsv \\ #sample metadata yang memiliki informasi barcode\n",
    "  --m-barcodes-column barcode-sequence \\\n",
    "  --o-per-sample-sequences demux.qza \\ #artifact demultiplexing\n",
    "  --o-error-correction-details demux-details.qza"
   ]
  },
  {
   "cell_type": "markdown",
   "metadata": {},
   "source": [
    "Visualiasi hasil demultiplexing dari artifact demux.qza. File untuk visualisasi berupa file dengan extention .qzv"
   ]
  },
  {
   "cell_type": "code",
   "execution_count": null,
   "metadata": {
    "jupyter": {
     "outputs_hidden": true
    }
   },
   "outputs": [],
   "source": [
    "!qiime demux summarize \\\n",
    "  --i-data demux.qza \\\n",
    "  --o-visualization demux.qzv"
   ]
  },
  {
   "cell_type": "code",
   "execution_count": null,
   "metadata": {},
   "outputs": [],
   "source": [
    "#menampilkan visualisasi demux\n",
    "!qiime tools view demux.qzv"
   ]
  },
  {
   "cell_type": "markdown",
   "metadata": {},
   "source": [
    "demux.qzv <a href=\"https://view.qiime2.org/?src=https%3A%2F%2Fdocs.qiime2.org%2F2020.11%2Fdata%2Ftutorials%2Fmoving-pictures%2Fdemux.qzv\">VIEW</a> \n",
    "Visualisi demux.qzv memberikan gambaran visual untuk jumlah sequence yang berhasil terdeteksi oleh barcode yang berhasil didemultiplexing. Dari visualisi ini memberikan informasi jumlah sequence in total dan jumlah sample berdasarkan penggolongan barcode yang diwakilkan oleh sample ID. Mengingat data sequence yang digunakan merupakan data sequence single-end, sehingga hanya terdapat satu reads, yaitu forward reads. "
   ]
  },
  {
   "cell_type": "markdown",
   "metadata": {},
   "source": [
    "<h2>5. Sequence Quality Control dan Konstruksi feature table</h2>"
   ]
  },
  {
   "cell_type": "markdown",
   "metadata": {},
   "source": [
    "Tiga plugin untuk quality control pada QIIME2- <a href=\"https://pubmed.ncbi.nlm.nih.gov/27214047/\">DADA2</a>, <a href=\"https://msystems.asm.org/content/msys/2/2/e00191-16.full.pdf\">Deblur</a>, dan <a href=\"http://nature.com/articles/nmeth.2276\">basic-quality-socre-based filtering</a>, terserah ingin menggunakan yang mana saja, namun dalam turorial ini digunakan DADA2 dan Deblur. Kedua metode ini menghasilkan FeatureTable yang sama, yang mana FeatureTable ini menunjukkan jumlah atau frekuensi sekuen unik yang tersaring berdasarkan parameter yang kita setting. Disamping itu juga dihasilkan FeatureData sebagai dasar penggolongan masing-masing sekuen unik yang telah tersaring. Perlu diperhatikan bahwa penamaan artifact FeatureTable untuk tiap method akan berbeda untuk menunjukkan masing-masing artifact dari tiap metode. "
   ]
  },
  {
   "cell_type": "markdown",
   "metadata": {},
   "source": [
    "<h4>A. The Divisive Amplicon Denoising Algorithm (DADA)</h4>\n",
    "Selain di QIIME2, DADA2 juga merupakan open source <a href=\"https://github.com/benjjneb/dada2\">R-package</a> (4). DADA2 mengimplementasikan full amplicon workflow yaitu: filtering, dereplication, identifikasi sekuen chimera, dan merging paired-end reads (jika sekuen paired-end). \n"
   ]
  },
  {
   "cell_type": "markdown",
   "metadata": {},
   "source": [
    "Dua parameter yang perlu di set untuk quality filtering, yaitu <i>--p-trim-left m</i> dan <i>--p-trunc-len n</i>. Masing-masing memotong/trimming basa sebelum basa ke-m dan pada urutan basa ke-n. Penentuan nilai m dan n dapat berdasarkan pada dua hal, yaitu sekuen primer dan kualitas sekuen. Jika masih terdapat sekuen primer pada sekuen yang akan di trim, maka sebaiknya bagian juga ikut di potong/trim. Kualitas sekuen dapat dilihat pada hasil demux bagian Interactive Quality Plot. Umumnya treshhold kualitas urutan sekuen yaitu <b><20 </b> pada nilai median <a href=\"https://forum.qiime2.org/t/trim-based-on-quality-score-not-the-sequence-position/6830/2\">(QIIME2 forum)</a>. "
   ]
  },
  {
   "cell_type": "code",
   "execution_count": null,
   "metadata": {
    "jupyter": {
     "outputs_hidden": true
    }
   },
   "outputs": [],
   "source": [
    "!qiime dada2 denoise-single \\\n",
    "  --i-demultiplexed-seqs demux.qza \\\n",
    "  --p-trim-left 0 \\ #trimming sebelum basa ke-0\n",
    "  --p-trunc-len 120 \\ #trimming dari basa ke-120 dan setelahnya\n",
    "  --o-representative-sequences rep-seqs-dada2.qza \\\n",
    "  --o-table table-dada2.qza \\\n",
    "  --o-denoising-stats stats-dada2.qza"
   ]
  },
  {
   "cell_type": "code",
   "execution_count": null,
   "metadata": {
    "jupyter": {
     "outputs_hidden": true
    }
   },
   "outputs": [],
   "source": [
    "#visualisi hasil dada2\n",
    "!qiime metadata tabulate \\\n",
    "  --m-input-file stats-dada2.qza \\\n",
    "  --o-visualization stats-dada2.qzv"
   ]
  },
  {
   "cell_type": "code",
   "execution_count": null,
   "metadata": {},
   "outputs": [],
   "source": [
    "#melihat visualiasi hasil dada2\n",
    "!qiime tools view stats-dada2.qzv"
   ]
  },
  {
   "cell_type": "markdown",
   "metadata": {},
   "source": [
    "Output visualisasi DADA2 <a href=\"https://view.qiime2.org/?src=https%3A%2F%2Fdocs.qiime2.org%2F2020.11%2Fdata%2Ftutorials%2Fmoving-pictures%2Fstats-dada2.qzv\">VIEW</a>."
   ]
  },
  {
   "cell_type": "code",
   "execution_count": null,
   "metadata": {
    "jupyter": {
     "outputs_hidden": true
    }
   },
   "outputs": [],
   "source": [
    "#move and copy hasil dada2 ke local storage\n",
    "!mv rep-seqs-dada2.qza rep-seqs.qza\n",
    "!mv table-dada2.qza table.qza"
   ]
  },
  {
   "cell_type": "markdown",
   "metadata": {},
   "source": [
    "<h4>B. Deblur</h4>\n",
    "Seperti pada DADA2, Deblur juga berperan untuk filtering kualitas sekeun. Deblur baik digunakan untuk asssessing taxa yang relatif berdekatan dan untuk dataset yang sangat banyak (5).   "
   ]
  },
  {
   "cell_type": "code",
   "execution_count": null,
   "metadata": {
    "jupyter": {
     "outputs_hidden": true
    }
   },
   "outputs": [],
   "source": [
    "!qiime quality-filter q-score \\\n",
    "--i-demux demux.qza \\\n",
    "--o-filtered-sequences demux-filtered.qza \\\n",
    "--o-filter-stats demux-filter-stats.qza"
   ]
  },
  {
   "cell_type": "markdown",
   "metadata": {
    "jupyter": {
     "outputs_hidden": true
    }
   },
   "source": [
    "Parameter yang dibutuhkan pada tahap ini yaitu trimmming panjang sekuen. Penentuan nilai trim berdasarkan pada kualitas posisi basa. Umumnya direkomendasikan pada saat kualitas basa mulai menurun terlalu rendah melihat pada nilai median tiap basa. "
   ]
  },
  {
   "cell_type": "code",
   "execution_count": null,
   "metadata": {
    "jupyter": {
     "outputs_hidden": true
    }
   },
   "outputs": [],
   "source": [
    "!qiime deblur denoise-16S \\\n",
    "--i-demultiplexed-seqs demux-filtered.qza \\\n",
    "--p-trim-length 120 \\\n",
    "--o-representative-sequences rep-seqs-deblur.qza \\\n",
    "--o-table table-deblur.qza \\\n",
    "--p-sample-stats \\\n",
    "--o-stats deblur-stats.qza"
   ]
  },
  {
   "cell_type": "code",
   "execution_count": null,
   "metadata": {
    "jupyter": {
     "outputs_hidden": true
    }
   },
   "outputs": [],
   "source": [
    "#visuliasasi deblur berdasarkan artifact demux-filter-stast dan deblur-stats\n",
    "!qiime metadata tabulate \\\n",
    "--m-input-file demux-filter-stats.qza \\\n",
    "--o-visualization demux-filter-stats.qzv\n",
    "!qiime deblur visualize-stats \\\n",
    "--i-deblur-stats deblur-stats.qza \\\n",
    "--o-visualization deblur-stats.qzv"
   ]
  },
  {
   "cell_type": "code",
   "execution_count": null,
   "metadata": {
    "jupyter": {
     "outputs_hidden": true
    }
   },
   "outputs": [],
   "source": [
    "#melihat hasil visualisasi deblur \n",
    "!qiime tools view demux-filter-stats.qzv\n",
    "!qiime tools view deblur-stats.qzv"
   ]
  },
  {
   "cell_type": "markdown",
   "metadata": {},
   "source": [
    "Output visualiasi deblur :\n",
    "<ul>\n",
    "    <li>demux-filter-stats <a href=\"https://view.qiime2.org/?src=https%3A%2F%2Fdocs.qiime2.org%2F2020.11%2Fdata%2Ftutorials%2Fmoving-pictures%2Fdemux-filter-stats.qzv\">VIEW</a></li>\n",
    "<li>deblur-stats <a href=\"https://view.qiime2.org/?src=https%3A%2F%2Fdocs.qiime2.org%2F2020.11%2Fdata%2Ftutorials%2Fmoving-pictures%2Fdeblur-stats.qzv\">VIEW</a></li>\n",
    "</ul>"
   ]
  },
  {
   "cell_type": "code",
   "execution_count": null,
   "metadata": {
    "jupyter": {
     "outputs_hidden": true
    }
   },
   "outputs": [],
   "source": [
    "#move and copy hasil deblur ke local storage\n",
    "!mv rep-seqs-deblur.qza rep-seqs.qza\n",
    "!mv table-deblur.qza table.qza"
   ]
  },
  {
   "cell_type": "markdown",
   "metadata": {},
   "source": [
    "<h2>6. FeatureTable dan FeatureData Summaries</h2>"
   ]
  },
  {
   "cell_type": "markdown",
   "metadata": {},
   "source": [
    "Tahap ini merupakan tahap exploratory data hasil quality quality filtering DADA2 atau Deblur dari dua artifact yang digunakan yaitu table.qza da rep-seqs.qza. <i>feature-table summariza</i> merupakan commend untuk memberikan informasi terkait jumlah sekuen feature beserta sekuen feature dan keterangan statistik terkait sekuen hasil filtering. Sekeun dapat di-klik untuk langsung terhubung ke NCBI BLAST. Command <i>feature-table tabulate-seqs</i> memberikan informasi terkait jumlah sample, feature, frequency sekuen per sample dan feature disertai histogram. Pada bagian <i>Interactive Sample Detail</i> dapat dilihat histogram jumlah sample berdasarkan Metadata Category dan sampling depth. Pada tahap ini telah terbentuk sekuen format fasta, sehingga dapat dilakukan alignment. "
   ]
  },
  {
   "cell_type": "code",
   "execution_count": null,
   "metadata": {
    "jupyter": {
     "outputs_hidden": true
    }
   },
   "outputs": [],
   "source": [
    "!qiime feature-table summarize \\\n",
    "--i-table table.qza \\\n",
    "--o-visualization table.qzv \\\n",
    "--m-sample-metadata-file sample-metadata.tsv\n",
    "!qiime feature-table tabulate-seqs \\\n",
    "--i-data rep-seqs.qza \\\n",
    "--o-visualization rep-seqs.qzv"
   ]
  },
  {
   "cell_type": "code",
   "execution_count": null,
   "metadata": {},
   "outputs": [],
   "source": [
    "#melihat hasil visualisasi table and rep-seqs \n",
    "!qiime tools view table.qzv\n",
    "!qiime tools view rep-seqs.qzv"
   ]
  },
  {
   "cell_type": "markdown",
   "metadata": {
    "jupyter": {
     "outputs_hidden": true
    }
   },
   "source": [
    "Output visualisasi table dan reps-seqs:\n",
    "<ul>\n",
    "    <li>Table <a href=\"https://view.qiime2.org/visualization/?type=html&src=https%3A%2F%2Fdocs.qiime2.org%2F2020.11%2Fdata%2Ftutorials%2Fmoving-pictures%2Ftable.qzv\">VIEW</a></li>\n",
    "    <li>rep-seqs <a href=\"https://view.qiime2.org/visualization/?type=html&src=https%3A%2F%2Fdocs.qiime2.org%2F2020.11%2Fdata%2Ftutorials%2Fmoving-pictures%2Frep-seqs.qzv\">VIEW</a></li>\n",
    "</ul>"
   ]
  },
  {
   "cell_type": "markdown",
   "metadata": {},
   "source": [
    "<h2>7. Membuat pohon untuk analisis diversitas filogenetik</h2>"
   ]
  },
  {
   "cell_type": "markdown",
   "metadata": {},
   "source": [
    "Pada dasarnya, analisis metabarkoding maupun metagenomic menerapakan prinsip-prinsip ekologi, namun dalam skala mikro. Hal yang terpenting adalah mengetahui bakteri apa saja yang ada dalam sample yang disekuesing. Setelah memperoleh kumpulan sekuens fasta yang tersimpen dalam astifact rep-seqs, maka selanjutnya dilakukan alignment dan pembuatan pohon filogenetik. Default alignment pada proses ini adalah multiple aligmnet MAFTT fast tree dengan output berupa rooted tree dan unrooted tree.\n"
   ]
  },
  {
   "cell_type": "code",
   "execution_count": null,
   "metadata": {},
   "outputs": [],
   "source": [
    "!qiime phylogeny align-to-tree-mafft-fasttree \\\n",
    "--i-sequences rep-seqs.qza \\\n",
    "--o-alignment aligned-rep-seqs.qza \\\n",
    "--o-masked-alignment masked-aligned-rep-seqs.qza \\\n",
    "--o-tree unrooted-tree.qza \\ #unrooted tree\n",
    "--o-rooted-tree rooted-tree.qza #rooted tree"
   ]
  },
  {
   "cell_type": "markdown",
   "metadata": {},
   "source": [
    "output berupa artifact:\n",
    "<ul>\n",
    "    <li>align-rep-seqs <a href=\"https://view.qiime2.org/?src=https%3A%2F%2Fdocs.qiime2.org%2F2020.11%2Fdata%2Ftutorials%2Fmoving-pictures%2Faligned-rep-seqs.qza\">VIEW</a></li>\n",
    "    <li>masked-aligned-rep-seqs <a href=\"https://view.qiime2.org/?src=https%3A%2F%2Fdocs.qiime2.org%2F2020.11%2Fdata%2Ftutorials%2Fmoving-pictures%2Fmasked-aligned-rep-seqs.qza\">VIEW</a></li>\n",
    "    <li>unrooted tree <a href=\"https://view.qiime2.org/?src=https%3A%2F%2Fdocs.qiime2.org%2F2020.11%2Fdata%2Ftutorials%2Fmoving-pictures%2Frooted-tree.qza\">VIEW</a> | <a href=\"https://docs.qiime2.org/2020.11/data/tutorials/moving-pictures/rooted-tree.qza\">DOWNLOAD</a></li>\n",
    "    <li>rooted tree <a href=\"https://view.qiime2.org/?src=https%3A%2F%2Fdocs.qiime2.org%2F2020.11%2Fdata%2Ftutorials%2Fmoving-pictures%2Funrooted-tree.qza\">VIEW</a> | <a href=\"https://docs.qiime2.org/2020.11/data/tutorials/moving-pictures/unrooted-tree.qza\">DOWNLOAD</a></li>\n",
    "</ul>"
   ]
  },
  {
   "cell_type": "markdown",
   "metadata": {},
   "source": [
    "Diperlukan server atau aplikasi tambahan untuk melihat pohon filogentik yang telah dibuat, seperti <a href=\"https://itol.embl.de/upload.cgi\">iTOL</a> atau server sejenisnya. Adapun file yang dapat diunggah ke iTOL adalah file <b>unrooted-tree.qza</b> dan <b>rooted-tree.qza</b>. Perlu diperhatikan bahwa pada tahap ini belum dilakukan analisis taksonomi sehingga hanya dapat dikethui ID tiap sequence."
   ]
  },
  {
   "cell_type": "markdown",
   "metadata": {},
   "source": [
    "<h2>8. Analisi Diversitas Alfa dan Beta</h2>"
   ]
  },
  {
   "cell_type": "markdown",
   "metadata": {},
   "source": [
    "Tidak berbeda jauh dengan analisis ekologi terkait diversitas suatu lokasi sampling, pada analisis metabarkoding juga mengaplikasikan konsep yang sama. Diversitas alfa/Alfa divesity merupakan divesitas lokal pada suatu wilayah (7) yang dicirikan oleh jumlah spesies. Divesitas beta/Beta diversity menunjukkan tingkat perbedaan sample komunitas pada 2 atau lebih wilayah (7). Dalam microbiome, diversitas direpresentasikan sebagai variasi sequence amplicon (9). Gambar dibawah ini menunujukkan alfa dan beta diversity (8)\n",
    "<img src=\"C:\\Users\\Ahmad Ardi\\Documents\\GitHub\\QIIME2\\picture1.2.jpg\" alt=\"Bynum, 2021 in https://bio.libretexts.org/Bookshelves/Ecology/Book%3A_Biodiversity_(Bynum)/7%3A_Alpha%2C_Beta%2C_and_Gamma_Diversity\"> "
   ]
  },
  {
   "cell_type": "markdown",
   "metadata": {},
   "source": [
    "Analisis diversitas QIIME2 menggunakan <i>plug in</i> <b>q2-diversity</b> yang akan melakukan komputasi diversitas alfa dan beta. Digunakan artifact hasil prosee <b>FeatureTable[Frequency]</b> sebagai input untuk menghasilkan beberapa metrik/perhitungan diversitas alfa dan membuat plot <i>Principle coordinate analysis (PCoA)</i> untuk setiap diversitas beta. Secara default metrik diversitas alfa dan beta adalah sebagai berikut:\n",
    "<ul>\n",
    "<li>Diversitas alfa</li>\n",
    "    <ul>\n",
    "        <li>Shannon's diversity index (menghitung community richenss secara kuantitatif)</li>\n",
    "        <li>Observed feature (menghitung community richness secara kualitatif)</li>\n",
    "        <li>Faith's Phylogenetic Diversity (menghitung community richness secara kualitatif yang dibarengi dengan hubungan filogenetik antar fitur)</li>\n",
    "        <li>Evennes (atau Pielou's Evenness: menghitung kemerataan komunitas)</li>\n",
    "    </ul>\n",
    "<li>Diversitas beta</li>\n",
    "    <ul>\n",
    "        <li>Jaccard distance (mengukur ketidaksamaan komunitas secara kualitatif)</li>\n",
    "        <li>Bray-Curtis distance (mengukur ketidaksamaan komunitas secara kuantitatif)</li>\n",
    "        <li>Unweighted UniFrac distance (mengukur ketidaksamaan komunitas secara kualitatif yang dibarengi dengan hubungan filogenetik antar fitur)</li>\n",
    "        <li>Weighted UniFrac distance (mengukur ketidaksamaan komunitas secara kuantitatif yang dibarengi dengan hubungan filogenetik antar fitur)</li>\n",
    "    </ul>\n",
    "</ul>"
   ]
  },
  {
   "cell_type": "markdown",
   "metadata": {},
   "source": [
    "Perlu diperhatikan bahwa penentuan <i>sampling depth</i> merupakan hal yang krusial dalam analisis ekologi mikrobia, karena hal dipengaruhi oleh banyak faktor. Adapun informasi yang dapat membantu dalam menentukan <i>sampling depth</i> terdapat pada forum QIIME2. Dua forum yang membahas spesifik tentang <i>sampling depth</i> depth. yaitu forum <a href=\"https://forum.qiime2.org/t/deep-sequencing/3586/2\">How to select a Sampling-depth</a> dan <a href=\"https://forum.qiime2.org/t/how-to-select-a-sampling-depth/4265/10\">Deep sequencing</a>. Sedikit merangkum dari kedua forum tersebut, untuk penentuan <i>sampling depth</i> dipengaruhi oleh diversitas bakteri pada sample karena semakin rendah (expected) diversitas maka semakin sedikit sampling dapth yang dibutuhkan untuk mencangkup/merepresentasikan community diversity. Selain itu juga penentuan <i>sampling depth</i> dipengaruhi oleh sampling design dan tujuan penelitian, apakah cenderung untuk mengetahui diversitas alfa atau cenderung ke melihat diversitas beta. Sebagai bahan pertimbangan dapat diperhatikan <b>table.qzv</b> yang sebelumnya telah dibuat. Pilihlan angka yang tinggi untuk memperoleh sequence per sample sebanyak mungkin namun tidak memasukkan sample dengan sequence yang sedikit."
   ]
  },
  {
   "cell_type": "code",
   "execution_count": null,
   "metadata": {},
   "outputs": [],
   "source": [
    "!qiime diversity core-metrics-phylogenetic \\\n",
    "--i-phylogeny rooted-tree.qza \\\n",
    "--i-table table.qza \\\n",
    "--p-sampling-depth 1109 \\\n",
    "--m-metadata-file sample-metadata.tsv \\\n",
    "--output-dir core-metrics-results"
   ]
  },
  {
   "cell_type": "markdown",
   "metadata": {},
   "source": [
    "Dihasilkan 13 output artifact dan 4 output visualization pada tahap ini. Artifact ini berperan sebagai input pada tahap selanjutnya, yaitu melihat komposisi mikrobia pada sample (diversitas alfa) dan hubungan antar sample (diversitas beta) berdasrakan sample metadata. \n",
    "<ul>\n",
    "    <li>core-metrics-results/faith_pd_vector.qza</li>\n",
    "    <li>core-metrics-results/unweighted_unifrac_distance_matrix.qza</li>\n",
    "    <li>core-metrics-results/bray_curtis_pcoa_results.qza</li>\n",
    "    <li>core-metrics-results/shannon_vector.qza</li>\n",
    "    <li>core-metrics-results/rarefied_table.qza</li>\n",
    "    <li>core-metrics-results/weighted_unifrac_distance_matrix.qza</li>\n",
    "    <li>core-metrics-results/jaccard_pcoa_results.qza</li>\n",
    "    <li>core-metrics-results/weighted_unifrac_pcoa_results.qza</li>\n",
    "    <li>core-metrics-results/observed_features_vector.qza</li>\n",
    "    <li>core-metrics-results/jaccard_distance_matrix.qza</li>\n",
    "    <li>core-metrics-results/evenness_vector.qza</li>\n",
    "    <li>core-metrics-results/bray_curtis_distance_matrix.qza</li>\n",
    "    <li>core-metrics-results/unweighted_unifrac_pcoa_results.qza</li>\n",
    "</ul>"
   ]
  },
  {
   "cell_type": "markdown",
   "metadata": {},
   "source": [
    "Output visualisasi core-metrics-results:\n",
    "<ul>\n",
    "    <li>core-metrics-results/unweighted_unifrac_emperor.qzv: <a href=\"https://view.qiime2.org/?src=https%3A%2F%2Fdocs.qiime2.org%2F2020.11%2Fdata%2Ftutorials%2Fmoving-pictures%2Fcore-metrics-results%2Funweighted_unifrac_emperor.qzv\">VIEW</a></li>\n",
    "    <li>core-metrics-results/jaccard_emperor.qzv: <a href=\"https://view.qiime2.org/?src=https%3A%2F%2Fdocs.qiime2.org%2F2020.11%2Fdata%2Ftutorials%2Fmoving-pictures%2Fcore-metrics-results%2Fjaccard_emperor.qzv\">VIEW</a></li>\n",
    "    <li>core-metrics-results/bray_curtis_emperor.qzv: <a href=\"https://view.qiime2.org/?src=https%3A%2F%2Fdocs.qiime2.org%2F2020.11%2Fdata%2Ftutorials%2Fmoving-pictures%2Fcore-metrics-results%2Fbray_curtis_emperor.qzv\">VIEW</a></li>\n",
    "    <li>core-metrics-results/weighted_unifrac_emperor.qzv: <a href=\"https://view.qiime2.org/?src=https%3A%2F%2Fdocs.qiime2.org%2F2020.11%2Fdata%2Ftutorials%2Fmoving-pictures%2Fcore-metrics-results%2Fweighted_unifrac_emperor.qzv\">VIEW</a></li>\n",
    "</ul>"
   ]
  },
  {
   "cell_type": "code",
   "execution_count": null,
   "metadata": {},
   "outputs": [],
   "source": [
    "#Melihat visualisasi core-metrics\n",
    "!qiime tools view core-metrics-results/unweighted_unifrac_emperor.qzv.qzv\n",
    "!qiime tools view core-metrics-results/jaccard_emperor.qzv\n",
    "!qiime tools view core-metrics-results/bray_curtis_emperor.qzv\n",
    "!qiime tools view core-metrics-results/weighted_unifrac_emperor.qzv"
   ]
  },
  {
   "cell_type": "markdown",
   "metadata": {},
   "source": [
    "Setelah mendapatkan metrik diversitas, selanjutnya dapat dilakukan eksplorasi komposisi mikrobia pada sample mengacu pada metadata sample. Pada script dibawah ini dilakukan perhitungan menggunakan metrik Faith's Phylogenetic Diversity (richness) dan metric evennes. "
   ]
  },
  {
   "cell_type": "code",
   "execution_count": null,
   "metadata": {},
   "outputs": [],
   "source": [
    "!qiime diversity alpha-group-significance \\\n",
    "  --i-alpha-diversity core-metrics-results/faith_pd_vector.qza \\\n",
    "  --m-metadata-file sample-metadata.tsv \\\n",
    "  --o-visualization core-metrics-results/faith-pd-group-significance.qzv\n",
    "\n",
    "!qiime diversity alpha-group-significance \\\n",
    "  --i-alpha-diversity core-metrics-results/evenness_vector.qza \\\n",
    "  --m-metadata-file sample-metadata.tsv \\\n",
    "  --o-visualization core-metrics-results/evenness-group-significance.qzv"
   ]
  },
  {
   "cell_type": "code",
   "execution_count": null,
   "metadata": {},
   "outputs": [],
   "source": [
    "#Melohat visualisai faith's metric dan evennes\n",
    "!qiime tools view core-metrics-results/faith-pd-group-significance.qzv\n",
    "!qiime tools view core-metrics-results/evenness-group-significance.qzv"
   ]
  },
  {
   "cell_type": "markdown",
   "metadata": {},
   "source": [
    "Output visualisasi diversitas alfa:\n",
    "<ul>\n",
    "    <li>core-metrics-results/faith-pd-group-significance.qzv: <a href=\"https://view.qiime2.org/?src=https%3A%2F%2Fdocs.qiime2.org%2F2020.11%2Fdata%2Ftutorials%2Fmoving-pictures%2Fcore-metrics-results%2Ffaith-pd-group-significance.qzv\">VIEW</a></li>\n",
    "    <li>core-metrics-results/evenness-group-significance.qzv: <a href=\"https://view.qiime2.org/?src=https%3A%2F%2Fdocs.qiime2.org%2F2020.11%2Fdata%2Ftutorials%2Fmoving-pictures%2Fcore-metrics-results%2Fevenness-group-significance.qzv\">VIEW</a></li>\n",
    "</ul>"
   ]
  },
  {
   "cell_type": "markdown",
   "metadata": {},
   "source": [
    "Setelah analisis diversitas alfa, selanjutnya berupa analisis diversitas beta untuk mengetahui jarak yang secara langsung mengindikasikan hubungan antara sample-sample dalam grup. Lebih dalam menganalisis komposisi sampel dalam konteks kategorikal metadata menggunakan PEMANOVA (Anderson, 2011) menggunakan command <b>beta-group-significance</b>. Command ini akan mengetest apakah jarak antar sampel pada grup yang sama (berasal dari lokasi pengambilan sample yang sama) memiliki jarak yang saling berdekatana dibandingkan dengan jarak antar anggota grup dari lokasi pengambilan sampel yang berbeda. Ditambah dengan command <b>--p-pairwise</b> yang bertujuan untuk dilakukan pairwise test dalam hal menentukan group mana yang paling berebada dibandingkan dengan grup lainnya (jika ada)."
   ]
  },
  {
   "cell_type": "code",
   "execution_count": null,
   "metadata": {},
   "outputs": [],
   "source": [
    "!qiime diversity beta-group-significance \\\n",
    "  --i-distance-matrix core-metrics-results/unweighted_unifrac_distance_matrix.qza \\\n",
    "  --m-metadata-file sample-metadata.tsv \\\n",
    "  --m-metadata-column body-site \\\n",
    "  --o-visualization core-metrics-results/unweighted-unifrac-body-site-significance.qzv \\\n",
    "  --p-pairwise\n",
    "\n",
    "!qiime diversity beta-group-significance \\\n",
    "  --i-distance-matrix core-metrics-results/unweighted_unifrac_distance_matrix.qza \\\n",
    "  --m-metadata-file sample-metadata.tsv \\\n",
    "  --m-metadata-column subject \\\n",
    "  --o-visualization core-metrics-results/unweighted-unifrac-subject-group-significance.qzv \\\n",
    "  --p-pairwise"
   ]
  },
  {
   "cell_type": "code",
   "execution_count": null,
   "metadata": {},
   "outputs": [],
   "source": [
    "!qiime tools view core-metrics-results/unweighted-unifrac-body-site-significance.qzv\n",
    "!qiime tools view core-metrics-results/unweighted-unifrac-subject-group-significance.qzv"
   ]
  },
  {
   "cell_type": "markdown",
   "metadata": {},
   "source": [
    "Output visualisasi diversity beta-group:\n",
    "<ul>\n",
    "    <li>core-metrics-results/unweighted-unifrac-body-site-significance.qzv: <a href=\"https://view.qiime2.org/?src=https%3A%2F%2Fdocs.qiime2.org%2F2020.11%2Fdata%2Ftutorials%2Fmoving-pictures%2Fcore-metrics-results%2Funweighted-unifrac-body-site-significance.qzv\">VIEW</a></li>\n",
    "    <li>core-metrics-results/unweighted-unifrac-subject-group-significance.qzv: <a href=\"https://view.qiime2.org/?src=https%3A%2F%2Fdocs.qiime2.org%2F2020.11%2Fdata%2Ftutorials%2Fmoving-pictures%2Fcore-metrics-results%2Funweighted-unifrac-subject-group-significance.qzv\">VIEW</a></li>\n",
    "</ul>"
   ]
  },
  {
   "cell_type": "markdown",
   "metadata": {},
   "source": [
    "Eksplorasi komposisi komunitas mikrobia dapat dilakukan melalui pendekatan ordination. <i>Principle Coordinate Analysis (PCoA)</i> plot populer digunakan bersama dengan tersedianya metadata. Walaupun sebelumnya telah dibuat PCoA, namun dalam tahap ini ditambahan parameter <b>--p-costum-axes</b> yang sangat baik digunakan pada time series. Contohnya ketika ingin melihat komposisi mkrobia pada pada fase lag, log dan stasioner kultur mikroalga. "
   ]
  },
  {
   "cell_type": "code",
   "execution_count": null,
   "metadata": {
    "jupyter": {
     "outputs_hidden": true
    }
   },
   "outputs": [],
   "source": [
    "!qiime emperor plot \\\n",
    "  --i-pcoa core-metrics-results/unweighted_unifrac_pcoa_results.qza \\\n",
    "  --m-metadata-file sample-metadata.tsv \\\n",
    "  --p-custom-axes days-since-experiment-start \\\n",
    "  --o-visualization core-metrics-results/unweighted-unifrac-emperor-days-since-experiment-start.qzv\n",
    "\n",
    "!qiime emperor plot \\\n",
    "  --i-pcoa core-metrics-results/bray_curtis_pcoa_results.qza \\\n",
    "  --m-metadata-file sample-metadata.tsv \\\n",
    "  --p-custom-axes days-since-experiment-start \\\n",
    "  --o-visualization core-metrics-results/bray-curtis-emperor-days-since-experiment-start.qzv"
   ]
  },
  {
   "cell_type": "code",
   "execution_count": null,
   "metadata": {
    "jupyter": {
     "outputs_hidden": true
    }
   },
   "outputs": [],
   "source": [
    "!qiime tools view core-metrics-results/bray-curtis-emperor-days-since-experiment-start.qzv\n",
    "!qiime tools view core-metrics-results/unweighted-unifrac-emperor-days-since-experiment-start.qzv"
   ]
  },
  {
   "cell_type": "markdown",
   "metadata": {},
   "source": [
    "Output visualisasi :\n",
    "<ul>\n",
    "    <li>core-metrics-results/bray-curtis-emperor-days-since-experiment-start.qzv: <a href=\"https://view.qiime2.org/?src=https%3A%2F%2Fdocs.qiime2.org%2F2020.11%2Fdata%2Ftutorials%2Fmoving-pictures%2Fcore-metrics-results%2Fbray-curtis-emperor-days-since-experiment-start.qzv\">VIEW</a></li>\n",
    "    <li>core-metrics-results/unweighted-unifrac-emperor-days-since-experiment-start.qzv: <a href=\"https://view.qiime2.org/?src=https%3A%2F%2Fdocs.qiime2.org%2https://view.qiime2.org/?src=https%3A%2F%2Fdocs.qiime2.org%2F2020.11%2Fdata%2Ftutorials%2Fmoving-pictures%2Fcore-metrics-results%2Funweighted-unifrac-emperor-days-since-experiment-start.qzv\">VIEW</a></li>\n",
    "</ul>"
   ]
  },
  {
   "cell_type": "markdown",
   "metadata": {},
   "source": [
    "<h2>9. Alfa rarefaction plotting</h2>"
   ]
  },
  {
   "cell_type": "markdown",
   "metadata": {},
   "source": [
    "Kurva rarefaction merupakan salah satu bagian dari diversitas alfa yang mana kurva ini bertujuan untuk menunjukkan <i>sampling depth</i>. Melalui kurva rarefaction dapat diketahui apakah sampling yang dilakukan telah merepresentasikan divesritas komunitas mikrobia di alam atau belum. "
   ]
  },
  {
   "cell_type": "code",
   "execution_count": null,
   "metadata": {},
   "outputs": [],
   "source": [
    "!qiime diversity alpha-rarefaction \\\n",
    "  --i-table table.qza \\\n",
    "  --i-phylogeny rooted-tree.qza \\\n",
    "  --p-max-depth 4000 \\\n",
    "  --m-metadata-file sample-metadata.tsv \\\n",
    "  --o-visualization alpha-rarefaction.qzv"
   ]
  },
  {
   "cell_type": "markdown",
   "metadata": {},
   "source": [
    "Output visualisasi :\n",
    "<ul>\n",
    "    <li>alpha-rarefaction.qzv: <a href=\"https://view.qiime2.org/?src=https%3A%2F%2Fdocs.qiime2.org%2F2020.11%2Fdata%2Ftutorials%2Fmoving-pictures%2Falpha-rarefaction.qzv\">VIEW</a></li>\n",
    "</ul>"
   ]
  },
  {
   "cell_type": "markdown",
   "metadata": {},
   "source": [
    "Dua plot visualisasi pada tahap ini, yaitu plot Alfa rarefaction dan grouping sample berdasarkan metadata. Plot pertama digunakan untuk menentukan kelimpahan sample atau sequence yang di observasi. Tren kurva akan terus naik hingga pada titik tertentu akan mulai melandai yang menadakan bahwa sampling atau sequence yang diperoleh telah mencukupi atau mewakili divesitas di linkungan. Perlu diperhatikan jika setelah melandai terjadi penurunan maka sampling yang dilakukan tidak berkontorbusi terhadap diversitas sample. Dilain hal , jika kurva tidak menunjukkan adanya pelandaian, maka perlu dilakukan penambahan sample untuk sequencing atau banyaknya error ketika proses sequencing atau bahkan ekstraksi eDNA yang kurang baik, sehingga kurang mewakili diversitas mikrobia di linkungan. "
   ]
  },
  {
   "cell_type": "markdown",
   "metadata": {},
   "source": [
    "Perlu diperhatikan untuk penentuan <i>max depth</i> melalui command <b>--p-max-depth</b> haruslah ditentukan berdasarakan pertimbangan pada \"Frequency per sample\" pada <i>table.qzv</i>. Umumnya, pemilihan nilai max depth pada kisaran median dari frekuensi hingga diperoleh kurva yang baik. "
   ]
  },
  {
   "cell_type": "markdown",
   "metadata": {},
   "source": [
    "<h2>10. Analisis Taksnonomi</h2>"
   ]
  },
  {
   "cell_type": "markdown",
   "metadata": {},
   "source": [
    "Dalam tahap ini akan diketahui mikrobia apa saja yang terdapat dalam sampel atau eDNA apa saja yang berhasil di sequencing. Hal ini penting untuk melihat komposisi sample dan hubungannya dengan metadata. Tahap awal dalam proses ini yaitu assign taksonomi ke sequence pada <i>FeatureData[Sequence]</i> artifact QIIME2. Assign ke taksonomi dilakukan menggunakan pre-trained Naive Bayes classifier dan <i>q2-feature-clasffier</i> plugin. Classifier ini telah dilatih menggunakan OTU Greengenes 13_8 99% yang mana sequence-nya telah di trim/dipotong dengan panjang maksimal 250 basa pada region V4 16S (primer pair 515F dan 806R).  "
   ]
  },
  {
   "cell_type": "markdown",
   "metadata": {},
   "source": [
    "Selain menggunkan database OTU Greengenes, alternatif lain yang dapat digunakan yaitu SILVA, RDP, dan NCBI. Namun dalam hal akurasi yang paling terakurasi dengan baik adalah Greengenes. Untuk lebih jelasnya bisa merujuk ke paper <a href=\"https://bmcgenomics.biomedcentral.com/track/pdf/10.1186/s12864-017-3501-4.pdf\">Balvoˇci ̄ut ̇e* and Huson, 2017<a>"
   ]
  },
  {
   "cell_type": "code",
   "execution_count": null,
   "metadata": {},
   "outputs": [],
   "source": [
    "!wget \\\n",
    "  -O \"gg-13-8-99-515-806-nb-classifier.qza\" \\\n",
    "  \"https://data.qiime2.org/2020.11/common/gg-13-8-99-515-806-nb-classifier.qza\""
   ]
  },
  {
   "cell_type": "code",
   "execution_count": null,
   "metadata": {},
   "outputs": [],
   "source": [
    "!qiime feature-classifier classify-sklearn \\\n",
    "  --i-classifier gg-13-8-99-515-806-nb-classifier.qza \\\n",
    "  --i-reads rep-seqs.qza \\\n",
    "  --o-classification taxonomy.qza\n",
    "\n",
    "!qiime metadata tabulate \\\n",
    "  --m-input-file taxonomy.qza \\\n",
    "  --o-visualization taxonomy.qzv"
   ]
  },
  {
   "cell_type": "code",
   "execution_count": null,
   "metadata": {},
   "outputs": [],
   "source": [
    "#visualisasi taxonomy berdasarkan training ke Greengenes\n",
    "!qiime tools view taxonomy.qzv"
   ]
  },
  {
   "cell_type": "markdown",
   "metadata": {},
   "source": [
    "Output visualisasi :\n",
    "<ul>\n",
    "    <li>taxonomy.qzv: <a href=\"https://view.qiime2.org/?src=https%3A%2F%2Fdocs.qiime2.org%2F2020.11%2Fdata%2Ftutorials%2Fmoving-pictures%2Ftaxonomy.qzv\">VIEW</a></li>\n",
    "</ul>"
   ]
  },
  {
   "cell_type": "markdown",
   "metadata": {},
   "source": [
    "Jika pada taxonomy.qzv hanya terbatas pada table .tsv dengan feature ID, maka pada taxonomy barplot dapat dilihat kelimpahan relatif tiap mikrobia mulai dari taxonomic level 1 (Kingdom) hingga level 7 (species). "
   ]
  },
  {
   "cell_type": "code",
   "execution_count": null,
   "metadata": {
    "jupyter": {
     "outputs_hidden": true
    }
   },
   "outputs": [],
   "source": [
    "!qiime taxa barplot \\\n",
    "  --i-table table.qza \\\n",
    "  --i-taxonomy taxonomy.qza \\\n",
    "  --m-metadata-file sample-metadata.tsv \\\n",
    "  --o-visualization taxa-bar-plots.qzv"
   ]
  },
  {
   "cell_type": "code",
   "execution_count": null,
   "metadata": {
    "jupyter": {
     "outputs_hidden": true
    }
   },
   "outputs": [],
   "source": [
    "!qiime tools view taxa-bar-plots.qzv"
   ]
  },
  {
   "cell_type": "markdown",
   "metadata": {},
   "source": [
    "Output visualisasi :\n",
    "<ul>\n",
    "    <li>taxa-bar-plots.qzv: <a href=\"https://view.qiime2.org/?src=https%3A%2F%2Fdocs.qiime2.org%2F2020.11%2Fdata%2Ftutorials%2Fmoving-pictures%2Ftaxa-bar-plots.qzv\">VIEW</a></li>\n",
    "</ul>"
   ]
  },
  {
   "cell_type": "markdown",
   "metadata": {},
   "source": [
    "<h2>11. Differential abundance testing with ANCOM</h2>"
   ]
  },
  {
   "cell_type": "markdown",
   "metadata": {},
   "source": [
<<<<<<< HEAD
    "ANCOM digunakan untuk mengetahui feature yang secara nyata berbeda antar grup sample. Tentu metode ini memiliki limitasi yang dapat dibaca lebih lengkap di <a href=\"https://www.ncbi.nlm.nih.gov/pubmed/26028277\">ANCOM paper</a>. ANCOM baik digunakan pada perubahan feature kurang dari 25% antar grup. Semakin tinggi perubahan feature maka akan semakin tinggi error tipe I dan II pada penggunaan ANCOM. Pada tutorial ini ANCOM digunakan untuk menentukan varian sequence dan genera yang berbeda nyata pada sample gut untuk 2 subjek. "
=======
    "ANCOM digunakan untuk memperoleh feature yang secara signifikan memiliki kelimpahan yang berbeda-beda tiap sample. Dapat dikatakan bahwa ANCOM merupakan statistical approach untuk menentukan jenis mikrobia yang secara realtive abundance berbeda signifikan. Sebelum menggunakan ANCOM ada baiknya membaca paper <a href=\"https://www.ncbi.nlm.nih.gov/pubmed/26028277\">ANCOM paper</a> untuk penjelasan ANCOM.  "
   ]
  },
  {
   "cell_type": "markdown",
   "metadata": {},
   "source": [
    "Pada tutorial ini digunakan ANCOM untuk menentukan (jika ada) sequence vairance and genera yang memiliki realtive abundance yang berbeda secara signifikan pada sample dari usus pada 2 subjek yang bebeda. "
>>>>>>> 0f0f32d972daf635fe18971233c9972dac786973
   ]
  },
  {
   "cell_type": "code",
   "execution_count": null,
<<<<<<< HEAD
   "metadata": {},
=======
   "metadata": {
    "jupyter": {
     "outputs_hidden": true
    }
   },
>>>>>>> 0f0f32d972daf635fe18971233c9972dac786973
   "outputs": [],
   "source": [
    "!qiime feature-table filter-samples \\\n",
    "  --i-table table.qza \\\n",
    "  --m-metadata-file sample-metadata.tsv \\\n",
    "  --p-where \"[body-site]='gut'\" \\\n",
    "  --o-filtered-table gut-table.qza #menghasikan output berupa artifact"
   ]
  },
  {
   "cell_type": "markdown",
   "metadata": {},
   "source": [
    "ANCOM menggunakan artifact <i>FeatureTable[Composition]</i>, yang mana terdapat kemungkinan \"nol\" frekuensi. <i>add-pseudocount</i> merupakan proses imputasi untuk mengisi missing value/nilai nol pada data. "
   ]
  },
  {
   "cell_type": "code",
   "execution_count": null,
   "metadata": {
    "jupyter": {
     "outputs_hidden": true
    }
   },
   "outputs": [],
   "source": [
    "!qiime composition add-pseudocount \\\n",
    "  --i-table gut-table.qza \\\n",
    "  --o-composition-table comp-gut-table.qza"
   ]
  },
  {
   "cell_type": "code",
   "execution_count": null,
   "metadata": {
    "jupyter": {
     "outputs_hidden": true
    }
   },
   "outputs": [],
   "source": [
    "!qiime composition ancom \\\n",
    "  --i-table comp-gut-table.qza \\\n",
    "  --m-metadata-file sample-metadata.tsv \\\n",
    "  --m-metadata-column subject \\ #runing berdarsarkan kategori subject \n",
    "  --o-visualization ancom-subject.qzv"
   ]
  },
  {
   "cell_type": "code",
   "execution_count": null,
   "metadata": {
    "jupyter": {
     "outputs_hidden": true
    }
   },
   "outputs": [],
   "source": [
    "!qiime tools view ancom-subject.qzv"
   ]
  },
  {
   "cell_type": "markdown",
   "metadata": {},
   "source": [
    "Output visualisasi :\n",
    "<ul>\n",
<<<<<<< HEAD
    "    <li>ancom-subject.qzv: <a href=\"https://view.qiime2.org/?src=https%3A%2F%2Fdocs.qiime2.org%2F2021.2%2Fdata%2Ftutorials%2Fmoving-pictures%2Fancom-subject.qzv\">VIEW</a></li>\n",
=======
    "    <li>ancom-subject.qzv: <a href=\"https://view.qiime2.org/?src=https%3A%2F%2Fdocs.qiime2.org%2F2020.11%2Fdata%2Ftutorials%2Fmoving-pictures%2Fancom-subject.qzv\">VIEW</a></li>\n",
>>>>>>> 0f0f32d972daf635fe18971233c9972dac786973
    "</ul>"
   ]
  },
  {
<<<<<<< HEAD
   "cell_type": "markdown",
   "metadata": {},
   "source": [
    "Script dibawah ini me-run differential abundance pada level taxonomi yang spesifik. Dibawah ini dilakukan pada level 6 atau pada level genus pada Greengenes taxonomy. "
   ]
  },
  {
=======
>>>>>>> 0f0f32d972daf635fe18971233c9972dac786973
   "cell_type": "code",
   "execution_count": null,
   "metadata": {
    "jupyter": {
     "outputs_hidden": true
    }
   },
   "outputs": [],
   "source": [
    "!qiime taxa collapse \\\n",
    "  --i-table gut-table.qza \\\n",
    "  --i-taxonomy taxonomy.qza \\\n",
    "  --p-level 6 \\\n",
    "  --o-collapsed-table gut-table-l6.qza\n",
    "\n",
    "!qiime composition add-pseudocount \\\n",
    "  --i-table gut-table-l6.qza \\\n",
    "  --o-composition-table comp-gut-table-l6.qza\n",
    "\n",
    "!qiime composition ancom \\\n",
    "  --i-table comp-gut-table-l6.qza \\\n",
    "  --m-metadata-file sample-metadata.tsv \\\n",
    "  --m-metadata-column subject \\\n",
    "  --o-visualization l6-ancom-subject.qzv"
   ]
  },
  {
   "cell_type": "code",
   "execution_count": null,
   "metadata": {
    "jupyter": {
     "outputs_hidden": true
    }
   },
   "outputs": [],
   "source": [
    "!qiime tools view l6-ancom-subject.qzv"
   ]
  },
  {
<<<<<<< HEAD
   "cell_type": "markdown",
   "metadata": {},
   "source": [
    "Output visualisasi :\n",
    "<ul>\n",
    "    <li>l.qzv: <a href=\"https://view.qiime2.org/?src=https%3A%2F%2Fdocs.qiime2.org%2F2021.2%2Fdata%2Ftutorials%2Fmoving-pictures%2Fancom-subject.qzv\">VIEW</a></li>\n",
    "</ul>"
   ]
=======
   "cell_type": "code",
   "execution_count": null,
   "metadata": {
    "jupyter": {
     "outputs_hidden": true
    }
   },
   "outputs": [],
   "source": []
>>>>>>> 0f0f32d972daf635fe18971233c9972dac786973
  }
 ],
 "metadata": {
  "kernelspec": {
   "display_name": "Python 3",
   "language": "python",
   "name": "python3"
  },
  "language_info": {
   "codemirror_mode": {
    "name": "ipython",
    "version": 3
   },
   "file_extension": ".py",
   "mimetype": "text/x-python",
   "name": "python",
   "nbconvert_exporter": "python",
   "pygments_lexer": "ipython3",
   "version": "3.6.7"
  }
 },
 "nbformat": 4,
 "nbformat_minor": 4
}
