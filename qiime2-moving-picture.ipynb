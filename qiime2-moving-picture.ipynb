{
 "cells": [
  {
   "cell_type": "markdown",
   "metadata": {},
   "source": [
    "<h1>QIIME2 Tutorial menggunakan Python melalui Jupyter Notebook/Lab</h1>"
   ]
  },
  {
   "cell_type": "markdown",
   "metadata": {},
   "source": [
    "Tutorial ini merupakan merupakan tutorial analisis microbiome \"Moving Picture\". Analisis QIIME2 ini berasal dari sampel microbimoe manusia yang sebelumnya telah dipublikasikan oleh Caporasso et al. (2011). Data yang digunakan merupakan hasil sekuensing NSG Illumina HiSeq terhadap Hypervariabel region 4 (V4) 16S rRNA menggunakan protocol Earth Microbiome Project.\n",
    "\n",
    "Disini saya menggunakan QIIME2 versi 2019.10 dan kemungkinan anda menggunakan QIIME2 versi terbaru. tidak banyak tools yang berubah , tapi pastikan anda perhatikan sumber tutorial ini untuk lebih jelasnya. \n",
    "https://docs.qiime2.org/2020.8/tutorials/moving-pictures/|"
   ]
  },
  {
   "cell_type": "markdown",
   "metadata": {},
   "source": [
    "<h2>1. Membuat Directory atau Folder Baru</h2>\n",
    "Sebelum melakukan analisi, ada baiknya dibuat directory atau file baru untuk menampung seluruh hasil analisis yang dilakukan. Adapun comment \"mkdir\" digunakan untuk membuat directory baru, kemudian disusul nama directorynya. Selanjutnya \"cd\" untuk berpindah ke directory yang telah dibuat sebelumnya, tentunya dengan menuliskan nama directorynya. Jika lupa nama directorynya, bisa menuliskan \"dir\" untuk melihat directory apa saya yang ada dalam directory kerja kita sekarang."
   ]
  },
  {
   "cell_type": "markdown",
   "metadata": {},
   "source": [
    "Perlu diperhatikan untuk setiap line wajib ditambahkan tanda seru \"!\" agar terbaca sebagai command line. "
   ]
  },
  {
   "cell_type": "code",
   "execution_count": null,
   "metadata": {
    "collapsed": true,
    "jupyter": {
     "outputs_hidden": true
    }
   },
   "outputs": [],
   "source": [
    "!mkdir qiime2-moving-pictures-tutorial\n",
    "!cd qiime2-moving-pictures-tutorial"
   ]
  },
  {
   "cell_type": "markdown",
   "metadata": {},
   "source": [
    "<h2>2. Mendapatkan Metadata Sample</h2>\n",
    "metadata merupakan data pendukung analisis microbiome yang berisikan keterangan parameter lingkungan, jenis perlakuan, informasi sumber sample, waktu pengisolasian sample, dan keterngan-keterngan pendukung sampel. \n",
    "Dalam tahap ini, akan diperoleh metadata melalui command \"wget\" yang diunduh dari laman dibawah ini.Metadata akan secara otomatis tersimpan dalam working directory (folder kita bekerja saat ini). info lebih lanjut mengenai metadata:\n",
    "\n",
    "https://docs.qiime2.org/2020.8/tutorials/metadata/"
   ]
  },
  {
   "cell_type": "markdown",
   "metadata": {},
   "source": [
    "Untuk mengecek lokasi working directory, dapat dituliskan:"
   ]
  },
  {
   "cell_type": "code",
   "execution_count": null,
   "metadata": {
    "collapsed": true,
    "jupyter": {
     "outputs_hidden": true
    }
   },
   "outputs": [],
   "source": [
    "import os\n",
    "os.getcwd()"
   ]
  },
  {
   "cell_type": "code",
   "execution_count": null,
   "metadata": {
    "collapsed": true,
    "jupyter": {
     "outputs_hidden": true
    }
   },
   "outputs": [],
   "source": [
    "!wget \\\n",
    "  -O \"sample-metadata.tsv\" \\\n",
    "  \"https://data.qiime2.org/2019.10/tutorials/moving-pictures/sample_metadata.tsv\""
   ]
  },
  {
   "cell_type": "markdown",
   "metadata": {},
   "source": [
    "<h2>3. Unduh data dan Import Data</h2>\n",
    "pertama-tama buatlah sebuah sub-directory (contoh: emp-single-end-sequence). kemudian unduh data. "
   ]
  },
  {
   "cell_type": "code",
   "execution_count": null,
   "metadata": {
    "collapsed": true,
    "jupyter": {
     "outputs_hidden": true
    }
   },
   "outputs": [],
   "source": [
    "!mkdir emp-single-end-sequences"
   ]
  },
  {
   "cell_type": "markdown",
   "metadata": {},
   "source": [
    "Sekuens secara otomatis tersimpan dalam sub-directory yang telah dibuat sebelumnya. \n",
    "\n",
    "Perlu diperhatikan tipe sekuens hasil NGS yang ingin di import, karena di tutorial ini digunakan EMP protocol multiplexed single-end. Selain itu terdapat tipe lain seperti EMP Protocaol multiplexed paired-end, Casava 1.8 single-end demultiplexed fastq, Casava 1.8 paired-end demultiplexed fastq, Multiplexed paired-end FASTQ with barcodes in sequence, dll. Misal, sekuens anda merupakan paired-end, tentunya importing data pada tutorial ini tidak akan dapat digunakan. lebih jelasnya dapat mengunjungi QIIME2 docs importing data https://docs.qiime2.org/2020.8/tutorials/importing/#sequence-data-with-sequence-quality-information-i-e-fastq "
   ]
  },
  {
   "cell_type": "markdown",
   "metadata": {},
   "source": [
    "Ditahap ini dilakukan importing pada 2 data, yaitu data barcode dan sequence fastq. Barcode atau index adapter (1) digunakan sebagai tag atau \"tanda pengenal\" untuk tiap sequence library (2).\n"
   ]
  },
  {
   "cell_type": "code",
   "execution_count": null,
   "metadata": {
    "collapsed": true,
    "jupyter": {
     "outputs_hidden": true
    }
   },
   "outputs": [],
   "source": [
    "!wget \\\n",
    "  -O \"emp-single-end-sequences/barcodes.fastq.gz\" \\ #file barcodes.fastq.gz disimipan dalam sub-directory emp-single-end-sequence\n",
    "  \"https://data.qiime2.org/2019.10/tutorials/moving-pictures/emp-single-end-sequences/barcodes.fastq.gz\""
   ]
  },
  {
   "cell_type": "markdown",
   "metadata": {},
   "source": [
    "Importing sequence fastq"
   ]
  },
  {
   "cell_type": "code",
   "execution_count": null,
   "metadata": {
    "collapsed": true,
    "jupyter": {
     "outputs_hidden": true
    }
   },
   "outputs": [],
   "source": [
    "!wget \\\n",
    "  -O \"emp-single-end-sequences/sequences.fastq.gz\" \\ #file sequence.fastq.gz disimipan dalam sub-directory emp-single-end-sequence\n",
    "  \"https://data.qiime2.org/2019.10/tutorials/moving-pictures/emp-single-end-sequences/sequences.fastq.gz\""
   ]
  },
  {
   "cell_type": "markdown",
   "metadata": {},
   "source": [
    "Semua data yang di input ke QIIME2 dalam bentuk QIIME2 artifact, yang mana berisikan informasi mengenai tipe data dan sumber data. Oleh karena itu, setelah memperoleh data sequence dan barcode selajutnya kedua data sequence tersebut diubah kedalam betuk QIIME2 artifact. "
   ]
  },
  {
   "cell_type": "code",
   "execution_count": null,
   "metadata": {
    "collapsed": true,
    "jupyter": {
     "outputs_hidden": true
    }
   },
   "outputs": [],
   "source": [
    "!qiime tools import \\\n",
    "  --type EMPSingleEndSequences \\\n",
    "  --input-path emp-single-end-sequences \\ #input berasal dari directory tempat tersimpannya barcodes.fastq.gz dan sequences.fastq.gz\n",
    "  --output-path emp-single-end-sequences.qzan #output berupa artifact QIIME2 dengan extention .gza"
   ]
  },
  {
   "cell_type": "code",
   "execution_count": null,
   "metadata": {
    "collapsed": true,
    "jupyter": {
     "outputs_hidden": true
    }
   },
   "outputs": [],
   "source": [
    "#untuk melihat data artifact QIIME2\n",
    "!qiime tools peek emp-single-end-sequences.qza"
   ]
  },
  {
   "cell_type": "markdown",
   "metadata": {},
   "source": [
    "<h2>4. Demultiplexing Sequences</h2>\n",
    "Demultiplexing merupakan tahap awal dari Quality Filtering yang mana pada tahap demultiplexing seqeunce fastq akan dikelompokkan berdasarkan barcode yang terdapat pada metadata (Moving Pictures sample-metadata). sequence yang tidak terbaca oleh barcode akan dibuang atau dengan kata lain memiliki kualitas dibawah threshold (3)."
   ]
  },
  {
   "cell_type": "code",
   "execution_count": null,
   "metadata": {
    "collapsed": true,
    "jupyter": {
     "outputs_hidden": true
    }
   },
   "outputs": [],
   "source": [
    "!qiime demux emp-single \\\n",
    "  --i-seqs emp-single-end-sequences.qza \\ #input data dari artiact QIIME2 yang sebelumnya dibuat\n",
    "  --m-barcodes-file sample-metadata.tsv \\ #sample metadata yang memiliki informasi barcode\n",
    "  --m-barcodes-column barcode-sequence \\\n",
    "  --o-per-sample-sequences demux.qza \\ #artifact demultiplexing\n",
    "  --o-error-correction-details demux-details.qza"
   ]
  },
  {
   "cell_type": "markdown",
   "metadata": {},
   "source": [
    "Visualiasi hasil demultiplexing dari artifact demux.qza. File untuk visualisasi berupa file dengan extention .qzv"
   ]
  },
  {
   "cell_type": "code",
   "execution_count": null,
   "metadata": {
    "collapsed": true,
    "jupyter": {
     "outputs_hidden": true
    }
   },
   "outputs": [],
   "source": [
    "!qiime demux summarize \\\n",
    "  --i-data demux.qza \\\n",
    "  --o-visualization demux.qzv"
   ]
  },
  {
   "cell_type": "code",
   "execution_count": null,
   "metadata": {
    "collapsed": true,
    "jupyter": {
     "outputs_hidden": true
    }
   },
   "outputs": [],
   "source": [
    "#menampilkan visualisasi demux\n",
    "!qiime tools view demux.qzv"
   ]
  },
  {
   "cell_type": "markdown",
   "metadata": {},
   "source": [
    "demux.qzv <a href=\"https://view.qiime2.org/?src=https%3A%2F%2Fdocs.qiime2.org%2F2020.11%2Fdata%2Ftutorials%2Fmoving-pictures%2Fdemux.qzv\">VIEW</a> \n",
    "Visualisi demux.qzv memberikan gambaran visual untuk jumlah sequence yang berhasil terdeteksi oleh barcode yang berhasil didemultiplexing. Dari visualisi ini memberikan informasi jumlah sequence in total dan jumlah sample berdasarkan penggolongan barcode yang diwakilkan oleh sample ID. Mengingat data sequence yang digunakan merupakan data sequence single-end, sehingga hanya terdapat satu reads, yaitu forward reads. "
   ]
  },
  {
   "cell_type": "markdown",
   "metadata": {},
   "source": [
    "<h2>5. Sequence Quality Control dan Konstruksi feature table</h2>\n",
    "Tiga plugin untuk quality control pada QIIME2- <a href=\"https://pubmed.ncbi.nlm.nih.gov/27214047/\">DADA2</a>, <a href=\"https://msystems.asm.org/content/msys/2/2/e00191-16.full.pdf\">Deblur</a>, dan <a href=\"http://nature.com/articles/nmeth.2276\">basic-quality-socre-based filtering</a>, terserah ingin menggunakan yang mana saja, namun dalam turorial ini digunakan DADA2 dan Deblur. Kedua metode ini menghasilkan FeatureTable yang sama, yang mana FeatureTable ini menunjukkan jumlah atau frekuensi sekuen unik yang tersaring berdasarkan parameter yang kita setting. Disamping itu juga dihasilkan FeatureData sebagai dasar penggolongan masing-masing sekuen unik yang telah tersaring. Perlu diperhatikan bahwa penamaan artifact FeatureTable untuk tiap method akan berbeda untuk menunjukkan masing-masing artifact dari tiap metode. "
   ]
  },
  {
   "cell_type": "markdown",
   "metadata": {},
   "source": [
    "<h4>A. The Divisive Amplicon Denoising Algorithm (DADA)</h4>\n",
    "Selain di QIIME2, DADA2 juga merupakan open source <a href=\"https://github.com/benjjneb/dada2\">R-package</a> (4). DADA2 mengimplementasikan full amplicon workflow yaitu: filtering, dereplication, identifikasi sekuen chimera, dan merging paired-end reads (jika sekuen paired-end). \n"
   ]
  },
  {
   "cell_type": "markdown",
   "metadata": {},
   "source": [
    "Dua parameter yang perlu di set untuk quality filtering, yaitu <i>--p-trim-left m</i> dan <i>--p-trunc-len n</i>. Masing-masing memotong/trimming basa sebelum basa ke-m dan pada urutan basa ke-n. Penentuan nilai m dan n dapat berdasarkan pada dua hal, yaitu sekuen primer dan kualitas sekuen. Jika masih terdapat sekuen primer pada sekuen yang akan di trim, maka sebaiknya bagian juga ikut di potong/trim. Kualitas sekuen dapat dilihat pada hasil demux bagian Interactive Quality Plot. Umumnya treshhold kualitas urutan sekuen yaitu <b><20 </b> pada nilai median <a href=\"https://forum.qiime2.org/t/trim-based-on-quality-score-not-the-sequence-position/6830/2\">(QIIME2 forum)</a>. "
   ]
  },
  {
   "cell_type": "code",
   "execution_count": null,
   "metadata": {
    "collapsed": true,
    "jupyter": {
     "outputs_hidden": true
    }
   },
   "outputs": [],
   "source": [
    "!qiime dada2 denoise-single \\\n",
    "  --i-demultiplexed-seqs demux.qza \\\n",
    "  --p-trim-left 0 \\ #trimming sebelum basa ke-0\n",
    "  --p-trunc-len 120 \\ #trimming dari basa ke-120 dan setelahnya\n",
    "  --o-representative-sequences rep-seqs-dada2.qza \\\n",
    "  --o-table table-dada2.qza \\\n",
    "  --o-denoising-stats stats-dada2.qza"
   ]
  },
  {
   "cell_type": "code",
   "execution_count": null,
   "metadata": {
    "collapsed": true,
    "jupyter": {
     "outputs_hidden": true
    }
   },
   "outputs": [],
   "source": [
    "#visualisi hasil dada2\n",
    "!qiime metadata tabulate \\\n",
    "  --m-input-file stats-dada2.qza \\\n",
    "  --o-visualization stats-dada2.qzv"
   ]
  },
  {
   "cell_type": "code",
   "execution_count": null,
   "metadata": {},
   "outputs": [],
   "source": [
    "#melihat visualiasi hasil dada2\n",
    "!qiime tools view stats-dada2.qzv"
   ]
  },
  {
   "cell_type": "markdown",
   "metadata": {},
   "source": [
    "Output visualisasi DADA2 <a href=\"https://view.qiime2.org/?src=https%3A%2F%2Fdocs.qiime2.org%2F2020.11%2Fdata%2Ftutorials%2Fmoving-pictures%2Fstats-dada2.qzv\">VIEW</a>."
   ]
  },
  {
   "cell_type": "code",
   "execution_count": null,
   "metadata": {
    "collapsed": true,
    "jupyter": {
     "outputs_hidden": true
    }
   },
   "outputs": [],
   "source": [
    "#move and copy hasil dada2 ke local storage\n",
    "!mv rep-seqs-dada2.qza rep-seqs.qza\n",
    "!mv table-dada2.qza table.qza"
   ]
  },
  {
   "cell_type": "markdown",
   "metadata": {},
   "source": [
    "<h4>B. Deblur</h4>\n",
    "Seperti pada DADA2, Deblur juga berperan untuk filtering kualitas sekeun. Deblur baik digunakan untuk asssessing taxa yang relatif berdekatan dan untuk dataset yang sangat banyak (5).   "
   ]
  },
  {
   "cell_type": "code",
   "execution_count": null,
   "metadata": {
    "collapsed": true,
    "jupyter": {
     "outputs_hidden": true
    }
   },
   "outputs": [],
   "source": [
    "!qiime quality-filter q-score \\\n",
    "--i-demux demux.qza \\\n",
    "--o-filtered-sequences demux-filtered.qza \\\n",
    "--o-filter-stats demux-filter-stats.qza"
   ]
  },
  {
   "cell_type": "markdown",
   "metadata": {
    "jupyter": {
     "outputs_hidden": true
    }
   },
   "source": [
    "Parameter yang dibutuhkan pada tahap ini yaitu trimmming panjang sekuen. Penentuan nilai trim berdasarkan pada kualitas posisi basa. Umumnya direkomendasikan pada saat kualitas basa mulai menurun terlalu rendah melihat pada nilai median tiap basa. "
   ]
  },
  {
   "cell_type": "code",
   "execution_count": null,
   "metadata": {
    "collapsed": true,
    "jupyter": {
     "outputs_hidden": true
    }
   },
   "outputs": [],
   "source": [
    "!qiime deblur denoise-16S \\\n",
    "--i-demultiplexed-seqs demux-filtered.qza \\\n",
    "--p-trim-length 120 \\\n",
    "--o-representative-sequences rep-seqs-deblur.qza \\\n",
    "--o-table table-deblur.qza \\\n",
    "--p-sample-stats \\\n",
    "--o-stats deblur-stats.qza"
   ]
  },
  {
   "cell_type": "code",
   "execution_count": null,
   "metadata": {
    "collapsed": true,
    "jupyter": {
     "outputs_hidden": true
    }
   },
   "outputs": [],
   "source": [
    "#visuliasasi deblur berdasarkan artifact demux-filter-stast dan deblur-stats\n",
    "!qiime metadata tabulate \\\n",
    "--m-input-file demux-filter-stats.qza \\\n",
    "--o-visualization demux-filter-stats.qzv\n",
    "!qiime deblur visualize-stats \\\n",
    "--i-deblur-stats deblur-stats.qza \\\n",
    "--o-visualization deblur-stats.qzv"
   ]
  },
  {
   "cell_type": "code",
   "execution_count": null,
   "metadata": {
    "collapsed": true,
    "jupyter": {
     "outputs_hidden": true
    }
   },
   "outputs": [],
   "source": [
    "#melihat hasil visualisasi deblur \n",
    "!qiime tools view demux-filter-stats.qzv\n",
    "!qiime tools view deblur-stats.qzv"
   ]
  },
  {
   "cell_type": "markdown",
   "metadata": {},
   "source": [
    "Output visualiasi deblur :\n",
    "\n",
    "demux-filter-stats <a href=\"https://view.qiime2.org/?src=https%3A%2F%2Fdocs.qiime2.org%2F2020.11%2Fdata%2Ftutorials%2Fmoving-pictures%2Fdemux-filter-stats.qzv\">VIEW</a>\n",
    "\n",
    "deblur-stats <a href=\"https://view.qiime2.org/?src=https%3A%2F%2Fdocs.qiime2.org%2F2020.11%2Fdata%2Ftutorials%2Fmoving-pictures%2Fdeblur-stats.qzv\">VIEW</a>"
   ]
  },
  {
   "cell_type": "code",
   "execution_count": null,
   "metadata": {
    "collapsed": true,
    "jupyter": {
     "outputs_hidden": true
    }
   },
   "outputs": [],
   "source": [
    "#move and copy hasil deblur ke local storage\n",
    "!mv rep-seqs-deblur.qza rep-seqs.qza\n",
    "!mv table-deblur.qza table.qza"
   ]
  },
  {
   "cell_type": "markdown",
   "metadata": {},
   "source": [
    "<h2>6. FeatureTable dan FeatureData Summaries</h2>\n",
    "Tahap ini merupakan tahap exploratory data hasil quality quality filtering DADA2 atau Deblur dari dua artifact yang digunakan yaitu table.qza da rep-seqs.qza. <i>feature-table summariza</i> merupakan commend untuk memberikan informasi terkait jumlah sekuen feature beserta sekuen feature dan keterangan statistik terkait sekuen hasil filtering. Sekeun dapat di-klik untuk langsung terhubung ke NCBI BLAST. Command <i>feature-table tabulate-seqs</i> memberikan informasi terkait jumlah sample, feature, frequency sekuen per sample dan feature disertai histogram. Pada bagian <i>Interactive Sample Detail</i> dapat dilihat histogram jumlah sample berdasarkan Metadata Category dan sampling depth. Pada tahap ini telah terbentuk sekuen format fasta, sehingga dapat dilakukan alignment. "
   ]
  },
  {
   "cell_type": "code",
   "execution_count": null,
   "metadata": {
    "collapsed": true,
    "jupyter": {
     "outputs_hidden": true
    }
   },
   "outputs": [],
   "source": [
    "!qiime feature-table summarize \\\n",
    "--i-table table.qza \\\n",
    "--o-visualization table.qzv \\\n",
    "--m-sample-metadata-file sample-metadata.tsv\n",
    "!qiime feature-table tabulate-seqs \\\n",
    "--i-data rep-seqs.qza \\\n",
    "--o-visualization rep-seqs.qzv"
   ]
  },
  {
   "cell_type": "code",
   "execution_count": null,
   "metadata": {
    "collapsed": true,
    "jupyter": {
     "outputs_hidden": true
    }
   },
   "outputs": [],
   "source": [
    "#melihat hasil visualisasi table and rep-seqs \n",
    "!qiime tools view table.qzv\n",
    "!qiime tools view rep-seqs.qzv"
   ]
  },
  {
   "cell_type": "markdown",
   "metadata": {
    "jupyter": {
     "outputs_hidden": true
    }
   },
   "source": [
    "Output visualisasi table dan reps-seqs:\n",
    "\n",
    "Table <a href=\"https://view.qiime2.org/visualization/?type=html&src=https%3A%2F%2Fdocs.qiime2.org%2F2020.11%2Fdata%2Ftutorials%2Fmoving-pictures%2Ftable.qzv\">VIEW</a>\n",
    "\n",
    "rep-seqs <a href=\"https://view.qiime2.org/visualization/?type=html&src=https%3A%2F%2Fdocs.qiime2.org%2F2020.11%2Fdata%2Ftutorials%2Fmoving-pictures%2Frep-seqs.qzv\">VIEW</a>"
   ]
  },
  {
   "cell_type": "markdown",
   "metadata": {},
   "source": [
    "<h2>7. Membuat pohon untuk analisis diversitas filogenetik</h2>\n",
    "Pada dasarnya, analisis metabarkoding maupun metagenomic menerapakan prinsip-prinsip ekologi, namun dalam skala mikro. Hal yang terpenting adalah mengetahui bakteri apa saja yang ada dalam sample yang disekuesing. Setelah memperoleh kumpulan sekuens fasta yang tersimpen dalam astifact rep-seqs, maka selanjutnya dilakukan alignment dan pembuatan pohon filogenetik. Default alignment pada proses ini adalah multiple aligmnet MAFTT fast tree dengan output berupa rooted tree dan unrooted tree.\n"
   ]
  },
  {
   "cell_type": "code",
   "execution_count": null,
   "metadata": {
    "collapsed": true,
    "jupyter": {
     "outputs_hidden": true
    }
   },
   "outputs": [],
   "source": [
    "!qiime phylogeny align-to-tree-mafft-fasttree \\\n",
    "--i-sequences rep-seqs.qza \\\n",
    "--o-alignment aligned-rep-seqs.qza \\\n",
    "--o-masked-alignment masked-aligned-rep-seqs.qza \\\n",
    "--o-tree unrooted-tree.qza \\ #unrooted tree\n",
    "--o-rooted-tree rooted-tree.qza #rooted tree"
   ]
  },
  {
   "cell_type": "markdown",
   "metadata": {},
   "source": [
    "output berupa artifact:\n",
    "\n",
    "align-rep-seqs <a href=\"https://view.qiime2.org/?src=https%3A%2F%2Fdocs.qiime2.org%2F2020.11%2Fdata%2Ftutorials%2Fmoving-pictures%2Faligned-rep-seqs.qza\">VIEW</a>\n",
    "\n",
    "masked-aligned-rep-seqs <a href=\"https://view.qiime2.org/?src=https%3A%2F%2Fdocs.qiime2.org%2F2020.11%2Fdata%2Ftutorials%2Fmoving-pictures%2Fmasked-aligned-rep-seqs.qza\">VIEW</a>\n",
    "\n",
    "unrooted tree <a href=\"https://view.qiime2.org/?src=https%3A%2F%2Fdocs.qiime2.org%2F2020.11%2Fdata%2Ftutorials%2Fmoving-pictures%2Frooted-tree.qza\">VIEW</a> <a href=\"https://docs.qiime2.org/2020.11/data/tutorials/moving-pictures/rooted-tree.qza\">DOWNLOAD</a>\n",
    "\n",
    "rooted tree <a href=\"https://view.qiime2.org/?src=https%3A%2F%2Fdocs.qiime2.org%2F2020.11%2Fdata%2Ftutorials%2Fmoving-pictures%2Funrooted-tree.qza\">VIEW</a> <a href=\"https://docs.qiime2.org/2020.11/data/tutorials/moving-pictures/unrooted-tree.qza\">DOWNLOAD</a>"
   ]
  },
  {
   "cell_type": "markdown",
   "metadata": {},
   "source": [
    "Diperlukan server atau aplikasi tambahan untuk melihat pohon filogentik yang telah dibuat, seperti <a href=\"https://itol.embl.de/upload.cgi\">iTOL</a> atau server sejenisnya. Adapun file yang dapat diunggah ke iTOL adalah file <b>unrooted-tree.qza</b> dan <b>rooted-tree.qza</b>. Perlu diperhatikan bahwa pada tahap ini belum dilakukan analisis taksonomi sehingga hanya dapat dikethui ID tiap sequence."
   ]
  },
  {
   "cell_type": "markdown",
   "metadata": {},
   "source": [
    "<h2>8. Analisi Diversitas Alfa dan Beta</h2>\n",
    "Tidak berbeda jauh dengan analisis ekologi terkait diversitas suatu lokasi sampling, pada analisis metabarkoding juga mengaplikasikan konsep yang sama. Diversitas alfa/Alfa divesity merupakan divesitas lokal pada suatu wilayah (Krebs, ) yang dicirikan oleh jumlah spesies. Divesitas beta/Beta diversity menunjukkan tingkat perbedaan sample komunitas pada 2 atau lebih wilayah (krebs, ). Dalam microbiome, diversitas direpresentasikan sebagai variasi sequence amplicon (8). Gambar dibawah ini menunujukkan alfa dan beta diversity (7)\n",
    "<img src=\"C:\\Users\\Ahmad Ardi\\Documents\\GitHub\\QIIME2\\picture1.2.jpg\" alt=\"Bynum, 2021 in https://bio.libretexts.org/Bookshelves/Ecology/Book%3A_Biodiversity_(Bynum)/7%3A_Alpha%2C_Beta%2C_and_Gamma_Diversity\">\n"
   ]
  },
  {
   "cell_type": "markdown",
   "metadata": {},
   "source": [
    "Adapun pada tahap ini akan dihasilkan output berupa diversitas Alfa dan Beta.  \n",
    "\n",
    "Perlu diperhatikan bahwa penentuan sampling depth merupakan hal yang krusial dalam analisis ekologi mikrobia. pertimbangan menentukan sampling depth:\n",
    "\n",
    "https://forum.qiime2.org/t/deep-sequencing/3586/2\n",
    "\n",
    "https://forum.qiime2.org/t/how-to-select-a-sampling-depth/4265/10"
   ]
  },
  {
   "cell_type": "code",
   "execution_count": null,
   "metadata": {
    "collapsed": true,
    "jupyter": {
     "outputs_hidden": true
    }
   },
   "outputs": [],
   "source": [
    "!qiime diversity core-metrics-phylogenetic \\\n",
    "--i-phylogeny rooted-tree.qza \\\n",
    "--i-table table.qza \\\n",
    "--p-sampling-depth 1109 \\\n",
    "--m-metadata-file sample-metadata.tsv \\\n",
    "--output-dir core-metrics-results"
   ]
  },
  {
   "cell_type": "code",
   "execution_count": null,
   "metadata": {
    "collapsed": true,
    "jupyter": {
     "outputs_hidden": true
    }
   },
   "outputs": [],
   "source": [
    "!qiime tools view core-metrics-results/bray_curtis_emperor.qzv"
   ]
  },
  {
   "cell_type": "code",
   "execution_count": null,
   "metadata": {
    "collapsed": true,
    "jupyter": {
     "outputs_hidden": true
    }
   },
   "outputs": [],
   "source": [
    "!qiime diversity alpha-group-significance \\\n",
    "  --i-alpha-diversity core-metrics-results/faith_pd_vector.qza \\\n",
    "  --m-metadata-file sample-metadata.tsv \\\n",
    "  --o-visualization core-metrics-results/faith-pd-group-significance.qzv\n",
    "\n",
    "!qiime diversity alpha-group-significance \\\n",
    "  --i-alpha-diversity core-metrics-results/evenness_vector.qza \\\n",
    "  --m-metadata-file sample-metadata.tsv \\\n",
    "  --o-visualization core-metrics-results/evenness-group-significance.qzv"
   ]
  },
  {
   "cell_type": "code",
   "execution_count": null,
   "metadata": {
    "collapsed": true,
    "jupyter": {
     "outputs_hidden": true
    }
   },
   "outputs": [],
   "source": [
    "!qiime tools view core-metrics-results/faith-pd-group-significance.qzv"
   ]
  },
  {
   "cell_type": "code",
   "execution_count": null,
   "metadata": {
    "collapsed": true,
    "jupyter": {
     "outputs_hidden": true
    }
   },
   "outputs": [],
   "source": [
    "!qiime diversity beta-group-significance \\\n",
    "  --i-distance-matrix core-metrics-results/unweighted_unifrac_distance_matrix.qza \\\n",
    "  --m-metadata-file sample-metadata.tsv \\\n",
    "  --m-metadata-column body-site \\\n",
    "  --o-visualization core-metrics-results/unweighted-unifrac-body-site-significance.qzv \\\n",
    "  --p-pairwise\n",
    "\n",
    "!qiime diversity beta-group-significance \\\n",
    "  --i-distance-matrix core-metrics-results/unweighted_unifrac_distance_matrix.qza \\\n",
    "  --m-metadata-file sample-metadata.tsv \\\n",
    "  --m-metadata-column subject \\\n",
    "  --o-visualization core-metrics-results/unweighted-unifrac-subject-group-significance.qzv \\\n",
    "  --p-pairwise"
   ]
  },
  {
   "cell_type": "code",
   "execution_count": null,
   "metadata": {
    "collapsed": true,
    "jupyter": {
     "outputs_hidden": true
    }
   },
   "outputs": [],
   "source": [
    "!qiime tools view core-metrics-results/unweighted-unifrac-body-site-significance.qzv"
   ]
  },
  {
   "cell_type": "code",
   "execution_count": null,
   "metadata": {
    "collapsed": true,
    "jupyter": {
     "outputs_hidden": true
    }
   },
   "outputs": [],
   "source": [
    "!qiime emperor plot \\\n",
    "  --i-pcoa core-metrics-results/unweighted_unifrac_pcoa_results.qza \\\n",
    "  --m-metadata-file sample-metadata.tsv \\\n",
    "  --p-custom-axes days-since-experiment-start \\\n",
    "  --o-visualization core-metrics-results/unweighted-unifrac-emperor-days-since-experiment-start.qzv\n",
    "\n",
    "!qiime emperor plot \\\n",
    "  --i-pcoa core-metrics-results/bray_curtis_pcoa_results.qza \\\n",
    "  --m-metadata-file sample-metadata.tsv \\\n",
    "  --p-custom-axes days-since-experiment-start \\\n",
    "  --o-visualization core-metrics-results/bray-curtis-emperor-days-since-experiment-start.qzv"
   ]
  },
  {
   "cell_type": "code",
   "execution_count": null,
   "metadata": {
    "collapsed": true,
    "jupyter": {
     "outputs_hidden": true
    }
   },
   "outputs": [],
   "source": [
    "!qiime tools view core-metrics-results/bray-curtis-emperor-days-since-experiment-start.qzv"
   ]
  },
  {
   "cell_type": "code",
   "execution_count": null,
   "metadata": {
    "collapsed": true,
    "jupyter": {
     "outputs_hidden": true
    }
   },
   "outputs": [],
   "source": [
    "!qiime diversity alpha-rarefaction \\\n",
    "  --i-table table.qza \\\n",
    "  --i-phylogeny rooted-tree.qza \\\n",
    "  --p-max-depth 4000 \\\n",
    "  --m-metadata-file sample-metadata.tsv \\\n",
    "  --o-visualization alpha-rarefaction.qzv"
   ]
  },
  {
   "cell_type": "markdown",
   "metadata": {},
   "source": [
    "the database have been downloaded before, but if you want to donwnload it you can use : "
   ]
  },
  {
   "cell_type": "code",
   "execution_count": null,
   "metadata": {
    "collapsed": true,
    "jupyter": {
     "outputs_hidden": true
    }
   },
   "outputs": [],
   "source": [
    "!wget \\\n",
    "  -O \"gg-13-8-99-515-806-nb-classifier.qza\" \\\n",
    "  \"https://data.qiime2.org/2019.10/common/gg-13-8-99-515-806-nb-classifier.qza\""
   ]
  },
  {
   "cell_type": "code",
   "execution_count": null,
   "metadata": {
    "collapsed": true,
    "jupyter": {
     "outputs_hidden": true
    }
   },
   "outputs": [],
   "source": [
    "!qiime feature-classifier classify-sklearn \\\n",
    "  --i-classifier gg-13-8-99-515-806-nb-classifier.qza \\\n",
    "  --i-reads rep-seqs.qza \\\n",
    "  --o-classification taxonomy.qza\n",
    "\n",
    "!qiime metadata tabulate \\\n",
    "  --m-input-file taxonomy.qza \\\n",
    "  --o-visualization taxonomy.qzv"
   ]
  },
  {
   "cell_type": "code",
   "execution_count": null,
   "metadata": {
    "collapsed": true,
    "jupyter": {
     "outputs_hidden": true
    }
   },
   "outputs": [],
   "source": [
    "!qiime tools view taxonomy.qzv"
   ]
  },
  {
   "cell_type": "code",
   "execution_count": null,
   "metadata": {
    "collapsed": true,
    "jupyter": {
     "outputs_hidden": true
    }
   },
   "outputs": [],
   "source": [
    "!qiime taxa barplot \\\n",
    "  --i-table table.qza \\\n",
    "  --i-taxonomy taxonomy.qza \\\n",
    "  --m-metadata-file sample-metadata.tsv \\\n",
    "  --o-visualization taxa-bar-plots.qzv"
   ]
  },
  {
   "cell_type": "code",
   "execution_count": null,
   "metadata": {
    "collapsed": true,
    "jupyter": {
     "outputs_hidden": true
    }
   },
   "outputs": [],
   "source": [
    "!qiime tools view taxa-bar-plots.qzv"
   ]
  },
  {
   "cell_type": "markdown",
   "metadata": {},
   "source": [
    "# Differential abundance testing with ANCOM"
   ]
  },
  {
   "cell_type": "code",
   "execution_count": null,
   "metadata": {
    "collapsed": true,
    "jupyter": {
     "outputs_hidden": true
    }
   },
   "outputs": [],
   "source": [
    "!qiime feature-table filter-samples \\\n",
    "  --i-table table.qza \\\n",
    "  --m-metadata-file sample-metadata.tsv \\\n",
    "  --p-where \"[body-site]='gut'\" \\\n",
    "  --o-filtered-table gut-table.qza"
   ]
  },
  {
   "cell_type": "code",
   "execution_count": null,
   "metadata": {
    "collapsed": true,
    "jupyter": {
     "outputs_hidden": true
    }
   },
   "outputs": [],
   "source": [
    "!qiime composition add-pseudocount \\\n",
    "  --i-table gut-table.qza \\\n",
    "  --o-composition-table comp-gut-table.qza"
   ]
  },
  {
   "cell_type": "code",
   "execution_count": null,
   "metadata": {
    "collapsed": true,
    "jupyter": {
     "outputs_hidden": true
    }
   },
   "outputs": [],
   "source": [
    "!qiime composition ancom \\\n",
    "  --i-table comp-gut-table.qza \\\n",
    "  --m-metadata-file sample-metadata.tsv \\\n",
    "  --m-metadata-column subject \\\n",
    "  --o-visualization ancom-subject.qzv"
   ]
  },
  {
   "cell_type": "code",
   "execution_count": null,
   "metadata": {
    "collapsed": true,
    "jupyter": {
     "outputs_hidden": true
    }
   },
   "outputs": [],
   "source": [
    "!qiime tools view ancom-subject.qzv"
   ]
  },
  {
   "cell_type": "code",
   "execution_count": null,
   "metadata": {
    "collapsed": true,
    "jupyter": {
     "outputs_hidden": true
    }
   },
   "outputs": [],
   "source": [
    "!qiime taxa collapse \\\n",
    "  --i-table gut-table.qza \\\n",
    "  --i-taxonomy taxonomy.qza \\\n",
    "  --p-level 6 \\\n",
    "  --o-collapsed-table gut-table-l6.qza\n",
    "\n",
    "!qiime composition add-pseudocount \\\n",
    "  --i-table gut-table-l6.qza \\\n",
    "  --o-composition-table comp-gut-table-l6.qza\n",
    "\n",
    "!qiime composition ancom \\\n",
    "  --i-table comp-gut-table-l6.qza \\\n",
    "  --m-metadata-file sample-metadata.tsv \\\n",
    "  --m-metadata-column subject \\\n",
    "  --o-visualization l6-ancom-subject.qzv"
   ]
  },
  {
   "cell_type": "code",
   "execution_count": null,
   "metadata": {
    "collapsed": true,
    "jupyter": {
     "outputs_hidden": true
    }
   },
   "outputs": [],
   "source": [
    "!qiime tools view l6-ancom-subject.qzv"
   ]
  },
  {
   "cell_type": "code",
   "execution_count": null,
   "metadata": {
    "collapsed": true,
    "jupyter": {
     "outputs_hidden": true
    }
   },
   "outputs": [],
   "source": []
  }
 ],
 "metadata": {
  "kernelspec": {
   "display_name": "Python 3",
   "language": "python",
   "name": "python3"
  },
  "language_info": {
   "codemirror_mode": {
    "name": "ipython",
    "version": 3
   },
   "file_extension": ".py",
   "mimetype": "text/x-python",
   "name": "python",
   "nbconvert_exporter": "python",
   "pygments_lexer": "ipython3",
   "version": "3.7.9"
  }
 },
 "nbformat": 4,
 "nbformat_minor": 4
}
